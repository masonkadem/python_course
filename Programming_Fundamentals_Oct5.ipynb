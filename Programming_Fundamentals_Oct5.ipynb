{
  "cells": [
    {
      "cell_type": "markdown",
      "metadata": {
        "id": "xA-OU2hZdokC"
      },
      "source": [
        "# Programming Fundamentals"
      ]
    },
    {
      "cell_type": "markdown",
      "metadata": {
        "id": "w1fUDii4B8aH"
      },
      "source": [
        "# Heading 1\n",
        "## Heading 2"
      ]
    },
    {
      "cell_type": "markdown",
      "metadata": {
        "id": "yl-0ke7deAL8"
      },
      "source": [
        "# Week 1\n",
        "\n",
        "For MyCanvas issues contact helpdesk@mohawkcollege.ca\n",
        "\n",
        "## Evaluation:\n",
        "\n",
        "3 term tests\n",
        "\n",
        "1 final exam in week 14\n",
        "\n",
        "Must get a collective 50% on the tests and exams in order for your assignments to count.\n",
        "\n",
        "4 Assignments\n",
        "\n",
        "## 1.1 Introduction\n",
        "\n",
        "The course is consistent from week to week\n",
        "\n",
        "Textbook is required.\n",
        "\n",
        "Watch course video before you attend the lectures\n",
        "\n",
        "Do exercises to build skills/confidence\n",
        "\n",
        "The course is about Problem solving\n",
        "\n",
        "Problem solving is a skill\n",
        "\n",
        "Course topics build on each other\n",
        "\n",
        "You can pass as long as my overall exam average is good, despite failing an exam.\n",
        "\n",
        "Academic integrity is doing work independently with minimal amount of help\n",
        "\n",
        "\n"
      ]
    },
    {
      "cell_type": "markdown",
      "metadata": {
        "id": "7in4KX69fE0_"
      },
      "source": [
        "# Problem solving \n",
        "\n",
        " trial and error (exploration, experiment)\n",
        "\n",
        " analogy (prior solutions): relates to programming: Reuse past solutions for similar problems, often by modifying existing code or algorithms\n",
        "\n",
        " abstraction (simplifying): relates to programming: Simplify complex problems by temporarily ignoring details, focusing on core concepts.\n",
        "\n",
        " decomposition (breakdown, divide and conquer): relates to programming: Divide complex problems into smaller, solvable steps or subproblems, promoting modular code design.\n",
        "\n",
        " lateral thinking (thinking outside the box)\n",
        "\n",
        "IPO Charts – what needs to be done?\n",
        "\n",
        "Flow Charts – how are things going to be done?\n",
        "\n",
        "**critical thinking** = process of analyzing, evaluating, and making reasoned judgments based on evidence and logical reasoning (e.g., knowing what question to answer)"
      ]
    },
    {
      "cell_type": "code",
      "execution_count": null,
      "metadata": {
        "colab": {
          "base_uri": "https://localhost:8080/"
        },
        "id": "ST_cel-xFr6m",
        "outputId": "a6058af8-67d3-4849-cb12-395703baa076"
      },
      "outputs": [
        {
          "name": "stdout",
          "output_type": "stream",
          "text": [
            "2\n"
          ]
        },
        {
          "data": {
            "text/plain": [
              "int"
            ]
          },
          "execution_count": 10,
          "metadata": {},
          "output_type": "execute_result"
        }
      ],
      "source": [
        "a = 2\n",
        "print(a)\n",
        "type(a)"
      ]
    },
    {
      "cell_type": "code",
      "execution_count": null,
      "metadata": {
        "colab": {
          "base_uri": "https://localhost:8080/"
        },
        "id": "21CcIyuNGb7l",
        "outputId": "ebb2bec0-f724-46c5-ea7c-b887e3e46d9c"
      },
      "outputs": [
        {
          "data": {
            "text/plain": [
              "float"
            ]
          },
          "execution_count": 11,
          "metadata": {},
          "output_type": "execute_result"
        }
      ],
      "source": [
        "b = 1.2\n",
        "type(b)"
      ]
    },
    {
      "cell_type": "code",
      "execution_count": null,
      "metadata": {
        "id": "ff_d3PW8H_sV"
      },
      "outputs": [],
      "source": [
        "#Assign 2 to variable a_b\n",
        "a_b = 2\n"
      ]
    },
    {
      "cell_type": "code",
      "execution_count": null,
      "metadata": {
        "colab": {
          "base_uri": "https://localhost:8080/"
        },
        "id": "PhOaz26Rgplm",
        "outputId": "caddb24c-b46a-45c5-bccd-8733e8fb94ae"
      },
      "outputs": [
        {
          "name": "stdout",
          "output_type": "stream",
          "text": [
            "2\n"
          ]
        }
      ],
      "source": [
        "print(a)"
      ]
    },
    {
      "cell_type": "code",
      "execution_count": null,
      "metadata": {
        "colab": {
          "base_uri": "https://localhost:8080/"
        },
        "id": "ngNNeubRhUVj",
        "outputId": "b8c6af55-4257-43ac-a369-8af2988e26c0"
      },
      "outputs": [
        {
          "data": {
            "text/plain": [
              "int"
            ]
          },
          "execution_count": 14,
          "metadata": {},
          "output_type": "execute_result"
        }
      ],
      "source": [
        "type(a)"
      ]
    },
    {
      "cell_type": "code",
      "execution_count": null,
      "metadata": {
        "id": "x_IVdHV0IDrA"
      },
      "outputs": [],
      "source": [
        "b = 1.2"
      ]
    },
    {
      "cell_type": "code",
      "execution_count": null,
      "metadata": {
        "id": "PvV68I6FIGFB"
      },
      "outputs": [],
      "source": [
        "c = \"mason\"\n",
        "d = \"kadem\""
      ]
    },
    {
      "cell_type": "code",
      "execution_count": null,
      "metadata": {
        "colab": {
          "base_uri": "https://localhost:8080/"
        },
        "id": "XmH5dGj6jPLg",
        "outputId": "de385da2-5165-46f7-98e1-fcb78c525ba5"
      },
      "outputs": [
        {
          "data": {
            "text/plain": [
              "str"
            ]
          },
          "execution_count": 17,
          "metadata": {},
          "output_type": "execute_result"
        }
      ],
      "source": [
        "type(c)"
      ]
    },
    {
      "cell_type": "code",
      "execution_count": null,
      "metadata": {
        "colab": {
          "base_uri": "https://localhost:8080/"
        },
        "id": "6cWxUvHSIJOF",
        "outputId": "0125dcee-4d37-4995-ed19-ce3a6bd7ecce"
      },
      "outputs": [
        {
          "name": "stdout",
          "output_type": "stream",
          "text": [
            "3.2\n"
          ]
        }
      ],
      "source": [
        "print(a+b)"
      ]
    },
    {
      "cell_type": "code",
      "execution_count": null,
      "metadata": {
        "colab": {
          "base_uri": "https://localhost:8080/"
        },
        "id": "4-CsFfl6ILlj",
        "outputId": "f25896f6-9dda-4b38-f67b-1eb7da0f6b5e"
      },
      "outputs": [
        {
          "name": "stdout",
          "output_type": "stream",
          "text": [
            "mason kadem\n"
          ]
        }
      ],
      "source": [
        "print(c+ ' ' +d)"
      ]
    },
    {
      "cell_type": "code",
      "execution_count": null,
      "metadata": {
        "colab": {
          "base_uri": "https://localhost:8080/"
        },
        "id": "UkQlu_NCITZ5",
        "outputId": "379f9fa0-f155-45d8-afef-ce62e45bfec2"
      },
      "outputs": [
        {
          "data": {
            "text/plain": [
              "int"
            ]
          },
          "execution_count": 20,
          "metadata": {},
          "output_type": "execute_result"
        }
      ],
      "source": [
        "type(a)"
      ]
    },
    {
      "cell_type": "code",
      "execution_count": null,
      "metadata": {
        "id": "Nmz0WLmnJX--"
      },
      "outputs": [],
      "source": []
    },
    {
      "cell_type": "code",
      "execution_count": null,
      "metadata": {
        "id": "-pC8cSTqjY2R"
      },
      "outputs": [],
      "source": [
        "def add(x,y):\n",
        "  z = x+y\n",
        "  print(z)\n",
        "\n",
        "def add2(x,y):\n",
        "  return x+y"
      ]
    },
    {
      "cell_type": "code",
      "execution_count": null,
      "metadata": {
        "colab": {
          "base_uri": "https://localhost:8080/"
        },
        "id": "Z4ONwyn-eE7u",
        "outputId": "64967a79-224a-4acd-8090-2bf93895c24a"
      },
      "outputs": [
        {
          "data": {
            "text/plain": [
              "int"
            ]
          },
          "execution_count": 22,
          "metadata": {},
          "output_type": "execute_result"
        }
      ],
      "source": [
        "type(a)"
      ]
    },
    {
      "cell_type": "code",
      "execution_count": null,
      "metadata": {
        "id": "YQ0kxsCsb2Jt"
      },
      "outputs": [],
      "source": [
        "a = 5\n",
        "if a < 4:\n",
        "  print('less')\n",
        "else:\n",
        "  print('more')"
      ]
    },
    {
      "cell_type": "code",
      "execution_count": null,
      "metadata": {
        "id": "pkMWKybvj9X8"
      },
      "outputs": [],
      "source": [
        "# calling the function\n",
        "z = add2(3,5)\n",
        "z"
      ]
    },
    {
      "cell_type": "code",
      "execution_count": null,
      "metadata": {
        "id": "EFWN_Z-sI8SI"
      },
      "outputs": [],
      "source": [
        "type(b)"
      ]
    },
    {
      "cell_type": "code",
      "execution_count": null,
      "metadata": {
        "id": "6L4Nm3_Vn9Ht"
      },
      "outputs": [],
      "source": [
        "a = 10000"
      ]
    },
    {
      "cell_type": "code",
      "execution_count": null,
      "metadata": {
        "id": "YggbQRjrn4EV"
      },
      "outputs": [],
      "source": [
        "if a < 9000:\n",
        "  print(a)\n",
        "else:\n",
        "  raise ValueError(\"Power level over 9000\")\n",
        "\n",
        "# if BLANK != int"
      ]
    },
    {
      "cell_type": "code",
      "execution_count": null,
      "metadata": {
        "id": "RPAkI4aWu7o9"
      },
      "outputs": [],
      "source": [
        "def add(a, b):\n",
        "  return a + b"
      ]
    },
    {
      "cell_type": "code",
      "execution_count": null,
      "metadata": {
        "id": "CS9dZXD3vvJB"
      },
      "outputs": [],
      "source": [
        "add(1,2)"
      ]
    },
    {
      "cell_type": "code",
      "execution_count": null,
      "metadata": {
        "id": "-urdwXT5I9EF"
      },
      "outputs": [],
      "source": [
        "def add_integers(a, b):\n",
        "  if type(a) != int or type(b) != int:\n",
        "    raise ValueError(\"Inputs must be integers\")\n",
        "  return a + b"
      ]
    },
    {
      "cell_type": "code",
      "execution_count": null,
      "metadata": {
        "id": "5XxACDJ7JMx_"
      },
      "outputs": [],
      "source": [
        "add_integers(1,2.2)"
      ]
    },
    {
      "cell_type": "markdown",
      "metadata": {
        "id": "OrjMoIwnJdQ9"
      },
      "source": [
        "## IPO Chart for `add_integers`\n",
        "\n",
        "Pseudocode is a language-neutral, high-level representation of logic that resembles programming but doesn't follow a specific syntax.\n",
        "\n",
        "### Input\n",
        "- `a`: First number\n",
        "- `b`: Second number\n",
        "\n",
        "### Process\n",
        "1. Check if both `a` and `b` are integers.\n",
        "2. If not, raise a `ValueError`.\n",
        "3. Add `a` and `b`.\n",
        "\n",
        "### Output\n",
        "- Return the sum of `a` and `b`.\n",
        "- Raise an error (which can be caught and used to generate an error message) if inputs are not integers.\n",
        "\n"
      ]
    },
    {
      "cell_type": "markdown",
      "metadata": {
        "id": "FnEEF-nWJ18t"
      },
      "source": [
        "## Flow Chart\n",
        "\n",
        "[Diagrams.net](https://www.diagrams.net/)\n",
        "\n",
        "### Key Symbols:\n",
        "\n",
        "- **Oval**: Start or End of a process.\n",
        "- **Rectangle**: A process or action step.\n",
        "- **Diamond**: A decision point with multiple outcomes.\n",
        "- **Parallelogram**: Input or Output operations.\n",
        "- **Arrows**: Direction or flow of the process.\n",
        "\n",
        "### Flow Description:\n",
        "\n",
        "1. **Start**: An oval or rounded rectangle indicating the start of the process.\n",
        "2. **Input**: Two parallelograms, one labeled `a` and the other `b`, represent the two input numbers.\n",
        "3. **Decision**: A diamond shape questioning \"Are both `a` and `b` integers?\". Outcomes:\n",
        "   - **Yes**: Leads to the next step.\n",
        "   - **No**: Leads to an action box signifying a `ValueError`, followed by termination.\n",
        "4. **Process**: A rectangle labeled \"Add `a` and `b`\" representing the computation.\n",
        "5. **Output**: A parallelogram labeled \"Return sum\", indicating the function's output.\n",
        "6. **End**: An oval or rounded rectangle marking the process's end.\n",
        "\n",
        "### Connecting Arrows:\n",
        "\n",
        "- Arrows from the **Start** direct to the **Input** boxes for `a` and `b`.\n",
        "- Arrows from **Input** lead to the **Decision** diamond.\n",
        "- From **Decision**, one arrow (for \"Yes\") leads to **Process**, another (for \"No\") directs to \"Raise `ValueError`\".\n",
        "- The **Process** box has an arrow guiding to **Output**.\n",
        "- Both **Output** and \"Raise `ValueError`\" guide to **End**.\n"
      ]
    },
    {
      "cell_type": "markdown",
      "metadata": {
        "id": "O33ExiRrRlRm"
      },
      "source": [
        "## Problem solving review\n",
        "\n",
        "Using IPO charts or Flow charts in our problem solving represents which problem solving technique?\n",
        "\n",
        "\n",
        "Trying a wide variety of practice problems is an attempt to use which problem solving technique?\n",
        "\n",
        "Deciding what a question is asking you to do is part of"
      ]
    },
    {
      "cell_type": "markdown",
      "metadata": {
        "id": "TPrUgFIFSR9c"
      },
      "source": [
        "# Logic\n",
        "\n",
        "Logic = system for correct reasoning\n",
        "\n",
        "Evaluting the validity of your ideas/solutions and to distinguish between well-informed decisions and flawed logic.\n",
        "\n",
        "Focus on :\n",
        "\n",
        "**axioms** = accepted without proof(universally true). Example: Boolean Logic, True and True is True), 2) shortest distance btw 2 points is a straight line.\n",
        "\n",
        "**premises** = statements used as basis for making an argument (may require supporting evidence).\n",
        "\n",
        "Premise: \"All men are mortal.\" (Statement used as the basis for an argument)\n",
        "Premise: \"John is a man.\" (Another statement used as a basis)\n",
        "Conclusion: \"Therefore, John is mortal.\" (Conclusion drawn from the premises)\n",
        "\n",
        "**deductive reasoning** = logically certain conclusions from premises, axioms and implications (general to specfic).\n",
        "Example: All humans are mortal (general premise). Socrates is a human (specific case). Therefore, Socrates is mortal (specific conclusion). Related to **programming**\n",
        "\n",
        "**inductive reasoning** = start with specific observations and use them to make generalizations (specific to general). Example: You observe 10 swans, and they are all white. You induce that all swans are white. However, this conclusion might change if you later encounter a non-white swan. Related to **debugging**, limited info on bug/language\n",
        "\n",
        "**abductive reasoning** =  starts with observations and aims to infer the best possible explanation or hypothesis given incomplete evidence.\n",
        "Observation: \"The pavement is wet.\"\n",
        "Abductive Hypothesis: \"It may have rained recently.\"\n",
        "\n",
        "**implications** = if one statement is true, the other must also be true\n",
        "inferences\n",
        "Implication: \"If it's raining (statement 1), then the ground will get wet (statement 2).\"\n",
        "\n",
        "**inferences** = starting from a conclusion and guessng facts that led to this conclusion. Making a logical conection between facts.\n",
        "Example: \"Given that the ground is wet (conclusion), it's likely that it rained recently (guessing the fact that led to the conclusion).\"\n",
        "\n",
        "In programming, languages adhere to deductive reasoning, comparing your code against predefined rules. Errors, whether crashes or incorrect outputs, are often due to logic mistakes. Debugging involves making educated guesses, which need further testing and supporting evidence.\n",
        "\n",
        "\n",
        "\n",
        "\n",
        "Do we avoid making assumptions when reasoning?\n",
        "\n",
        "\n"
      ]
    },
    {
      "cell_type": "markdown",
      "metadata": {
        "id": "U3J6-z3oqW4U"
      },
      "source": [
        "## Logic grid puzzle\n",
        "\n",
        "---\n",
        "\n",
        "## Logic Puzzle Solving Process:\n",
        "\n",
        "### **Axioms**:\n",
        "Given truths in the puzzle.\n",
        "- _Example_: \"The person born in the Year of the Monkey is also a Leo.\"\n",
        "\n",
        "### **Implications**:\n",
        "Statements suggesting other truths. \"If A, then B.\"\n",
        "- _Example_: If Linda’s stone is malachite or turquoise, then she doesn't have hematite or amber.\n",
        "\n",
        "### **Deductions**:\n",
        "Direct conclusions from the given information.\n",
        "- _Example_: Linda Guimas is born in the Year of the Monkey and is a Leo.\n",
        "\n",
        "### **Inferences**:\n",
        "Conclusions from combining multiple clues.\n",
        "- _Example_: Given the clues about Linda's stone and the Leo's stone, Linda might be wearing malachite.\n",
        "\n",
        "---\n",
        "\n",
        "**Solving Steps**:\n",
        "1. **Axiom**: Use direct clues to make initial grid markings.\n",
        "2. **Implication**: Find potential matches or exclusions.\n",
        "3. **Deduction**: Fill grid based on direct conclusions.\n",
        "4. **Inference**: Combine clues to make educated matches/exclusions.\n",
        "\n",
        "Iterate through the clues, making deductions and inferences, and filling in the grid accordingly.\n",
        "\n",
        "\n",
        "**Hypothesis**:\n",
        "Given the clue that each person shares at least one initial with one of their zodiac signs, and knowing that \"Diana Moraes\" shares an initial with \"Dragon\", I hypothesized that \"Diana Moraes\" might be a \"Dragon\".\n",
        "\n",
        "Testing the Hypothesis:\n",
        "To test this hypothesis, I would look for other clues that might involve the Dragon:\n",
        "\n",
        "If any of the clues directly negate the possibility of Diana being associated with the \"Dragon\" or if there's another person with a fitting initial for \"Dragon\", it would invalidate our hypothesis.\n",
        "\n",
        "Moreover, considering the stones associated with people and their zodiacs, if Diana has a stone that doesn't align with any other Dragon-related clue, that would also give more weight to our hypothesis."
      ]
    },
    {
      "cell_type": "code",
      "execution_count": null,
      "metadata": {
        "colab": {
          "base_uri": "https://localhost:8080/"
        },
        "id": "oziqDH5uTn5Z",
        "outputId": "8f512a36-0ecf-4ce8-df64-a43c814a894a"
      },
      "outputs": [
        {
          "name": "stdout",
          "output_type": "stream",
          "text": [
            "enter number $10\n"
          ]
        }
      ],
      "source": [
        "num = int(input(\"enter number $\"))"
      ]
    },
    {
      "cell_type": "markdown",
      "metadata": {},
      "source": [
        "Boolean variables are often used for making decisions in code through conditional statements like if, elif, and else. They are fundamental for controlling the flow of a program based on conditions.\n",
        "\n",
        "The number of arrows that can exit a DECISION diamond is 2( for this course)"
      ]
    },
    {
      "cell_type": "markdown",
      "metadata": {},
      "source": [
        "# Pseudocode"
      ]
    },
    {
      "cell_type": "markdown",
      "metadata": {
        "id": "gmFjMfrMsvb6"
      },
      "source": [
        "\n",
        "\n",
        "### Pseudocode, IPO Charts, and Flow Charts\n",
        "\n",
        "- **Pseudocode:** Pseudocode is a way to depict algorithms in a manner that's easy for anyone to understand, not limited to computer science experts. It's like \"almost code\" and sits between plain English and actual source code.\n",
        "\n",
        "- **IPO (Input-Processing-Output) Charts:** IPO charts help identify the external and changing elements in a solution, required products of the solution, and the transformation steps needed to go from inputs to outputs.\n",
        "\n",
        "- **Flow Charts:** Flow charts are visual representations that aid in planning the sequence of steps necessary to arrive at a correct answer. They are especially valuable as tasks become more complex.\n",
        "\n",
        "### Pseudocode Basics\n",
        "\n",
        "- Pseudocode is used to specify a solution before diving into programming details, offering a less strict but more precise format than plain English.\n",
        "\n",
        "- It helps separate problem-solving (algorithmic thinking) from computer programming (writing code).\n",
        "\n",
        "- Pseudocode should be unambiguous, with each line starting with a verb and expressing one idea while documenting assumptions.\n",
        "\n",
        "### Pseudocode Syntax\n",
        "\n",
        "- Common keywords in pseudocode include INPUT (e.g., get, input, read), OUTPUT (e.g., show, display, output), PROCESSING (e.g., get, set, calculate), and VARIABLES (e.g., SET a = 1).\n",
        "\n",
        "- Mathematical equations are displayed using math symbols rather than words.\n",
        "\n",
        "- Ranges are represented using symbols like (1,9) for exclusive, [1,9] for inclusive, and [1,9) for inclusive on the lower end and exclusive on the upper end.\n",
        "\n",
        "- The caret symbol (^) can be used in pseudocode, even though it originates from the C programming language.\n",
        "\n",
        "### IPO Chart Details\n",
        "\n",
        "- Inputs are external information needed for the problem, and outputs are the results that answer the problem.\n",
        "\n",
        "- Processing steps involve converting inputs into outputs.\n",
        "\n",
        "- IPO charts help you translate the information in tables into logical statements and develop algorithms.\n",
        "\n",
        "- Testing an algorithm involves using values that follow assumptions, lie on boundaries, or fall within specified ranges.\n",
        "\n",
        "### Flow Chart Concepts *\n",
        "\n",
        "- Flow charts require navigating through shapes, including circles (start/finish/end), rectangles (action/process), and diamonds (boolean answers).\n",
        "\n",
        "- Flow follows arrows, and certain rules apply to the number of arrows entering or exiting each shape.\n",
        "\n",
        "- The number of arrows entering a START circle is 0, while the number of arrows exiting is 1. \n",
        "\n",
        "- A processing rectangle has one exiting arrow and can have multiple entering arrows.\n",
        "\n",
        "- FINISH circles can have as many arrows entering as needed, but no arrows exiting.\n",
        "\n",
        "- DECISION diamonds can have multiple entering arrows but only two existing (for this course, refere to boolean section for handling more possibnle outcomes)\n",
        "\n",
        "- Navigating a flow chart involves tracing variable values at each step and following arrows from shape to shape without jumping.\n",
        "\n"
      ]
    },
    {
      "cell_type": "markdown",
      "metadata": {},
      "source": [
        "# Algorithms"
      ]
    },
    {
      "cell_type": "markdown",
      "metadata": {},
      "source": [
        "\n",
        "\n",
        "### Computer Intelligence and Programming\n",
        "\n",
        "- Computers are not inherently intelligent; they cannot interpret the meaning of programmed instructions but excel at following them.\n",
        "\n",
        "- The intelligence in computers is a product of human design and programming.\n",
        "\n",
        "- We learn to program to solve our problems using computers.\n",
        "\n",
        "### Algorithms and Structured Solutions\n",
        "\n",
        "- Algorithms are ancient concepts for structuring solutions.\n",
        "\n",
        "- For instructions to be considered an algorithm, they must be correctly ordered, unambiguous, and lead to a correct solution.\n",
        "\n",
        "- In daily life, we often avoid fine-grained thinking due to time constraints.\n",
        "\n",
        "### Mathematical and Programming Concepts\n",
        "\n",
        "- Defining addition is essential as it underlies many mathematical and computational operations.\n",
        "\n",
        "- Boolean variables can hold the values True or False.\n",
        "\n",
        "- Between 0.1 and 0.2, an infinite number of real numbers exist.\n",
        "\n",
        "- Precision refers to the number of accurate decimal places in a calculation.\n",
        "\n",
        "### Boolean Logic and Problem Solving *\n",
        "\n",
        "- Boolean logic in a decision flow chart is can have more than two possible outcomes, but we focus on two for this course; it is essential to frame questions to have true or false answers covering all possibilities.\n",
        "\n",
        "using True and False makes python code more readable than using 0 and 1\n",
        "\n",
        "### Data Types and Structures\n",
        "\n",
        "#### Data Types\n",
        "\n",
        "- A data type interprets the binary pattern of a variable.\n",
        "\n",
        "- Binary patterns representing compound information are called data structures.\n",
        "\n",
        "#### Data Types\n",
        "\n",
        "- Integers are whole numbers, positive or negative, without decimal places.\n",
        "\n",
        "- Floats represent numbers with fractional parts, including decimal points.\n",
        "\n",
        "- It is false that integer numbers cannot be exactly represented in binary patterns.\n",
        "\n",
        "- Decimal fractions like 0.1 cannot be exactly represented in binary due to repeating patterns, necessitating approximation.\n",
        "\n",
        "\n",
        "- Strings are sequences of symbols with special meaning to humans.\n",
        "\n",
        "- Lists are data structures that can hold multiple values."
      ]
    },
    {
      "cell_type": "markdown",
      "metadata": {},
      "source": [
        "# Pseudocode\n",
        "\n",
        "Pseudocode is a way to express a solution to a problem in a format that is almost like actual code but not quite. It helps us specify the solution before diving into the details of programming. Pseudocode is more precise than plain English but less strict than actual programming code.\n",
        "\n",
        "We use pseudocode because it allows us to separate the process of problem-solving and algorithm design from the specifics of writing a computer program. It's a bridge between the two worlds, helping us think through a problem before committing to code.\n",
        "\n",
        "## Key Principles of Pseudocode\n",
        "\n",
        "- **Unambiguity:** Each line in pseudocode starts with a verb and expresses one clear idea. It avoids vague language and ensures that there's only one interpretation.\n",
        "\n",
        "- **Documentation of Assumptions:** Pseudocode often includes comments or annotations to document assumptions and provide context for the solution.\n",
        "\n"
      ]
    },
    {
      "cell_type": "markdown",
      "metadata": {
        "id": "D3REKv9Uws5-"
      },
      "source": [
        "\n",
        "[1,5] = from 1 to 5 inclusive\n",
        "(1,5) = from 1 to 5 exclusive\n",
        "[1,5) = x >= 1 and x < 5\n"
      ]
    },
    {
      "cell_type": "code",
      "execution_count": null,
      "metadata": {
        "colab": {
          "base_uri": "https://localhost:8080/"
        },
        "id": "zTELJ40HvzGl",
        "outputId": "a5657755-db4e-4814-8ccd-e2689dabb4f6"
      },
      "outputs": [
        {
          "name": "stdout",
          "output_type": "stream",
          "text": [
            "The number is 1\n",
            "The number 2 is not 5 but is less than 5\n",
            "The number 3 is not 5 but is less than 5\n",
            "The number 3 is not less than 3\n",
            "The number 4 is not 5 but is less than 5\n",
            "The number 4 is not less than 3\n",
            "The number 5 is 5 or greater than 3\n",
            "The number 5 is not less than 3\n"
          ]
        }
      ],
      "source": [
        "for num in range(1, 6):\n",
        "    if num == 1:\n",
        "        print(\"The number is 1\")\n",
        "    elif num != 5 and num < 5:  # AND operator\n",
        "        print(f\"The number {num} is not 5 but is less than 5\")\n",
        "    elif num == 5 or num > 3:  # OR operator\n",
        "        print(f\"The number {num} is 5 or greater than 3\")\n",
        "    if not num < 3:  # NOT operator\n",
        "        print(f\"The number {num} is not less than 3\")"
      ]
    },
    {
      "cell_type": "markdown",
      "metadata": {},
      "source": [
        "\n",
        "## Assignment 1\n",
        "\n",
        "**Due Date:** Sept 22 at 11:59 pm\n",
        "\n",
        "This assignment was introduced last week. Please review the assignment details in detail.\n",
        "\n",
        "### Assignment Questions:\n",
        "\n",
        "1. **Matchstick Puzzle (50 marks)**\n",
        "   - 15 marks for stating the correct equation.\n",
        "   - 35 marks for describing your logic.\n",
        "\n",
        "   Instructions:\n",
        "   - You can do any combination of add, remove, or move matchsticks, but you must use exactly five steps.\n",
        "   - You may not break matchsticks.\n",
        "   - You do not need to include a picture, but you may insert one into the Word document.\n",
        "\n",
        "2. **Grid Puzzle (50 marks)**\n",
        "   - 25 marks for creating the grid.\n",
        "   - 25 marks for describing your logic.\n",
        "\n",
        "   Instructions:\n",
        "   - You must include your grid in your Word document:\n",
        "     - Insert a screenshot from the Logic Puzzle Grid Creator.\n",
        "     - Insert a table into Word.\n",
        "     - Take a photo of a hand-drawn piece of paper.\n",
        "\n",
        "---"
      ]
    },
    {
      "cell_type": "markdown",
      "metadata": {},
      "source": [
        "Lucky Duckworth and his wife took five vacations last winter, one in each of the months of November, December, January, February, and March.  Each vacation was for a different length of time, either two weeks, one week, five days, four days, or three days.  They went to these five places: Bermuda, Hawaii, Jamaica, Puerto Rico, and Tahiti.  From the information given, determine where they went on vacation each month and how long they stayed. \n",
        "- 1.\tTheir two longest vacations were in the Pacific but neither of these two longest vacations was in November or March. \n",
        "- 2.\tThey did not go to Puerto Rico for 4 days. \n",
        "- 3.\tThey went on a five-day vacation before going to Bermuda but after going to Puerto Rico. \n",
        "- 4.\tThe January vacation was longer and after the Tahitian vacation, but before their vacation to Jamaica."
      ]
    },
    {
      "cell_type": "markdown",
      "metadata": {},
      "source": [
        "Let's solve this puzzle step by step:\n",
        "\n",
        "1. The two longest vacations were in the Pacific (Hawaii and Tahiti) but not in November or March.\n",
        "\n",
        "   Since the two longest vacations were in the Pacific and not in November or March, they must be in December, January, or February. Let's keep this in mind.\n",
        "\n",
        "2. They did not go to Puerto Rico for 4 days.\n",
        "\n",
        "   Puerto Rico cannot be a 4-day vacation. Let's exclude 4 days for Puerto Rico.\n",
        "\n",
        "3. They went on a five-day vacation before going to Bermuda but after going to Puerto Rico.\n",
        "\n",
        "   So, we have the order: Puerto Rico (not 4 days), [Five-day vacation], Bermuda.\n",
        "\n",
        "4. The January vacation was longer and after the Tahitian vacation, but before their vacation to Jamaica.\n",
        "\n",
        "   From this, we know that the January vacation must be longer than the others. The order now becomes: Puerto Rico (not 4 days), [Five-day vacation], Bermuda, [January vacation (longest)], Tahiti, Jamaica.\n",
        "\n",
        "Now, we can distribute the vacation lengths to fit the constraints:\n",
        "\n",
        "- Puerto Rico (not 4 days)\n",
        "- [Five-day vacation]\n",
        "- Bermuda\n",
        "- [January vacation (longest)]\n",
        "- Tahiti\n",
        "- Jamaica\n",
        "\n",
        "We have five vacation lengths left: 2 weeks, 1 week, 4 days, 3 days, and an unspecified length. Since January is the longest vacation and the Pacific vacations are not in November or March, we can determine the lengths as follows:\n",
        "\n",
        "- Puerto Rico (3 days)\n",
        "- [Five-day vacation]\n",
        "- Bermuda (1 week)\n",
        "- [January vacation (2 weeks)]\n",
        "- Tahiti (4 days)\n",
        "- Jamaica (unspecified length, which must be 3 days)\n",
        "\n",
        "So, they went on vacation as follows:\n",
        "\n",
        "- November: Tahiti (4 days)\n",
        "- December: Puerto Rico (3 days)\n",
        "- January: Jamaica (3 days)\n",
        "- February: Bermuda (1 week)\n",
        "- March: Hawaii (2 weeks)\n",
        "\n",
        "This solution satisfies all the given conditions."
      ]
    },
    {
      "cell_type": "markdown",
      "metadata": {},
      "source": [
        "## Review\n",
        "\n",
        "4 data types?"
      ]
    },
    {
      "cell_type": "markdown",
      "metadata": {},
      "source": [
        "Operators are symbols that represent functions\n",
        "\n",
        "# Relational Operators\n",
        "\n",
        "Relational operators are used to compare values and return a boolean result.\n",
        "\n",
        "| Symbol | Meaning               | Example                  |\n",
        "|--------|-----------------------|--------------------------|\n",
        "| >      | Greater than          | 3 > 5 is False           |\n",
        "| >=     | Greater than or equal to | 5 >= 5 is True         |\n",
        "| <      | Less than             | 3 < 5 is True            |\n",
        "| <=     | Less than or equal to | 3 <= 1 is False          |\n",
        "| ==     | Equal to              | 3 == 3 is True           |\n",
        "| !=     | Not equal to          | 5 != 2 is True           |\n",
        "\n",
        "**Note:** Relational operators always have a boolean result.\n",
        "\n",
        "## Comparison Tips\n",
        "\n",
        "- `X == 3` can also be written as `3 == X` if you're looking for equality. You are comparing values, not assigning them.\n",
        "\n",
        "# Logical Operators\n",
        "\n",
        "Logical operators are used to perform logical operations on boolean values.\n",
        "\n",
        "| a      | b      | a and b | a or b | a xor b (exclusive or) |\n",
        "|--------|--------|---------|--------|------------------------|\n",
        "| True   | True   | True    | True   | False                  |\n",
        "| True   | False  | False   | True   | True                   |\n",
        "| False  | True   | False   | True   | True                   |\n",
        "| False  | False  | False   | False  | False                  |\n",
        "\n",
        "| a      | not a  |\n",
        "|--------|--------|\n",
        "| True   | False  |\n",
        "| False  | True   |\n",
        "\n",
        "# String Operators\n",
        "\n",
        "String operators are used for string manipulation.\n",
        "\n",
        "| Symbol | Meaning               | Example                    |\n",
        "|--------|-----------------------|----------------------------|\n",
        "| +      | Concatenation         | \"hi\" + \"there\" gives \"hithere\" |\n",
        "| *      | Repetition            | \"hi\" * 3 gives \"hihihi\"    |\n",
        "| [n]    | Substring (slice)     | \"hello\"[1] gives \"e\"      |\n",
        "| [m:n]  | Substring (slice)     | \"hello\"[1:4] gives \"ell\"  |\n",
        "|        |                       | \"hello\"[2:4] gives \"ll\"   |\n",
        "| in     | Membership            | \"lat\" in \"population\" gives True |\n",
        "|        |                       | \"mouse\" in \"house\" gives False |\n",
        "\n",
        "**Note:** The precedence of all the groups of operators is (from highest to lowest):\n",
        "\n",
        "1. String (slice, concatenation)\n",
        "2. Arithmetic & String Repetition (multiplication)\n",
        "3. Relational & String Membership\n",
        "4. Logical\n",
        "5. Assignment\n",
        "\n",
        "# Assignment Operators\n",
        "\n",
        "Assignment operators are used to assign values to variables.\n",
        "\n",
        "| Symbol | Meaning               | Example              |\n",
        "|--------|-----------------------|----------------------|\n",
        "| =      | Assign a value to a variable | a = 3 + 5       |\n",
        "| +=     | Add a value to a variable   | a += 4 is the same as a = a + 4 |\n",
        "| -=     | Subtract a value from a variable | a -= 4 is the same as a = a - 4 |\n",
        "\n",
        "\n",
        "**Arithmetic Operators**\n",
        "- `+` (Addition): Example: `5 + 3` Result: `8`\n",
        "- `-` (Subtraction): Example: `7 - 2` Result: `5`\n",
        "- `*` (Multiplication): Example: `4 * 6` Result: `24`\n",
        "- `/` (Division): Example: `9 / 2` Result: `4.5`\n",
        "- `//` (Floor Division): Example: `9 // 2` Result: `4`\n",
        "- `//` (Floor Division): Example: `-9 // 2` Result: `-5` # number towards the smaller (more negative) whole number\n",
        "- `%` (Modulus/remainder): Example: `10 % 3` Result: `1`\n",
        "- `**` (Exponentiation): Example: `2 ** 3` Result: `8`\n",
        "\n",
        "x = 2 + 2.0\n",
        "= 4.0 (int to float conversion)\n",
        "\n",
        "\n",
        "\n",
        "\n"
      ]
    },
    {
      "cell_type": "code",
      "execution_count": 2,
      "metadata": {},
      "outputs": [
        {
          "data": {
            "text/plain": [
              "-5"
            ]
          },
          "execution_count": 2,
          "metadata": {},
          "output_type": "execute_result"
        }
      ],
      "source": [
        "-9//2"
      ]
    },
    {
      "cell_type": "code",
      "execution_count": 31,
      "metadata": {},
      "outputs": [
        {
          "name": "stdout",
          "output_type": "stream",
          "text": [
            "Expression 1: 7 // 2 = 3\n",
            "Expression 2: 7.0 // 2 = 3.0\n",
            "Expression 3: 7 / 2.0 = 3.5\n",
            "Expression 4: -7 // 2 = -4\n",
            "Expression 5: -7.0 // -2.0 = 3.0\n"
          ]
        }
      ],
      "source": [
        "\n",
        "result1 = 7 // 2\n",
        "print(\"Expression 1: 7 // 2 =\", result1)\n",
        "\n",
        "result2 = 7.0 // 2\n",
        "print(\"Expression 2: 7.0 // 2 =\", result2)\n",
        "\n",
        "result3 = 7 / 2.0\n",
        "print(\"Expression 3: 7 / 2.0 =\", result3)\n",
        "\n",
        "# Expression 4: -7 floor-divided by 2 (floor division, rounded towards negative infinity)\n",
        "result4 = -7 // 2\n",
        "print(\"Expression 4: -7 // 2 =\", result4)\n",
        "\n",
        "# Expression 5: -7.0 floor-divided by -2.0 (floor division, rounded towards negative infinity)\n",
        "result5 = -7.0 // -2.0\n",
        "print(\"Expression 5: -7.0 // -2.0 =\", result5)"
      ]
    },
    {
      "cell_type": "markdown",
      "metadata": {},
      "source": [
        "In Python, the sign of the result (quotient) is always taken from the sign of the dividend (the 1st operand), and the sign of the remainder is taken from the sign of the divisor (the 2nd operand)"
      ]
    },
    {
      "cell_type": "code",
      "execution_count": 7,
      "metadata": {},
      "outputs": [
        {
          "name": "stdout",
          "output_type": "stream",
          "text": [
            "Result 1: 3.5\n",
            "Result 2: -4\n",
            "Result 3: -1\n"
          ]
        }
      ],
      "source": [
        "# Regular division\n",
        "result1 = 7 / 2  # Result: 3.5 (positive quotient, positive remainder)\n",
        "\n",
        "# Integer division (floor division)\n",
        "result2 = -7 // 2  # Result: -4 (negative quotient, positive remainder)\n",
        "\n",
        "# Modulus operation\n",
        "result3 = 7 % -2  # Result: -1 (positive quotient, negative remainder)\n",
        "\n",
        "print(\"Result 1:\", result1)\n",
        "print(\"Result 2:\", result2)\n",
        "print(\"Result 3:\", result3)"
      ]
    },
    {
      "cell_type": "code",
      "execution_count": 10,
      "metadata": {},
      "outputs": [
        {
          "name": "stdout",
          "output_type": "stream",
          "text": [
            "Help on built-in function round in module builtins:\n",
            "\n",
            "round(number, ndigits=None)\n",
            "    Round a number to a given precision in decimal digits.\n",
            "    \n",
            "    The return value is an integer if ndigits is omitted or None.  Otherwise\n",
            "    the return value has the same type as the number.  ndigits may be negative.\n",
            "\n"
          ]
        }
      ],
      "source": [
        "help(round)"
      ]
    },
    {
      "cell_type": "code",
      "execution_count": 32,
      "metadata": {},
      "outputs": [
        {
          "name": "stdout",
          "output_type": "stream",
          "text": [
            "1.17\n"
          ]
        }
      ],
      "source": [
        "print(round(1.1741,2))"
      ]
    },
    {
      "cell_type": "markdown",
      "metadata": {},
      "source": [
        "## Indexing"
      ]
    },
    {
      "cell_type": "code",
      "execution_count": 17,
      "metadata": {},
      "outputs": [
        {
          "name": "stdout",
          "output_type": "stream",
          "text": [
            "Row 1: [1 2 3]\n",
            "Column 2: [3 6 9]\n",
            "Rows 0 to 1:\n",
            " [[1 2 3]\n",
            " [4 5 6]]\n",
            "Columns 0 to 1:\n",
            " [[1 2]\n",
            " [4 5]\n",
            " [7 8]]\n"
          ]
        }
      ],
      "source": [
        "import numpy as np\n",
        "\n",
        "# Define a NumPy matrix\n",
        "matrix = np.array([\n",
        "    [1, 2, 3],\n",
        "    [4, 5, 6],\n",
        "    [7, 8, 9]\n",
        "])\n",
        "\n",
        "matrix = np.array([[1, 2, 3],[4, 5, 6],[7, 8, 9]])\n",
        "\n",
        "# Extract a specific row (e.g., row 1)\n",
        "row_1 = matrix[0, :]\n",
        "print(\"Row 1:\", row_1)\n",
        "\n",
        "# Extract a specific column (e.g., column 2)\n",
        "column_2 = matrix[:, 2]\n",
        "print(\"Column 2:\", column_2)\n",
        "\n",
        "# Extract a range of rows (e.g., rows 0 to 1)\n",
        "rows_0_to_1 = matrix[:2, :]\n",
        "print(\"Rows 0 to 1:\\n\", rows_0_to_1)\n",
        "\n",
        "# Extract a range of columns (e.g., columns 0 to 1)\n",
        "columns_0_to_1 = matrix[:, 1:2]\n",
        "print(\"Columns 0 to 1:\\n\", columns_0_to_1)\n"
      ]
    },
    {
      "cell_type": "markdown",
      "metadata": {},
      "source": [
        "## Debt Interest Calculator\n",
        "\n",
        "Input the balance owing and number of days outstanding on a debt. Calculate the amount of interest and the new total balance owing based on the following rules:\n",
        "\n",
        "- If the days outstanding is 90 or more, the interest is 15%\n",
        "- If the days outstanding is between 60 and 89 (inclusive), the interest is 10%\n",
        "- If the days outstanding is between 20 and 59 (inclusive), the interest is 5%\n",
        "- If the days outstanding is less than 20, the interest is 0%\n",
        "- If the balance (before new interest is applied) is more than $1500, then the interest rate is increased by 2%\n",
        "\n",
        "**Input Information:**\n",
        "- Original Balance Owing: $9999.99\n",
        "- Days Outstanding: 99\n",
        "\n",
        "**Calculated Information:**\n",
        "- Interest Rate: 12%\n",
        "- Amount of Interest: $9999.99\n",
        "- New Balance Owing: $99999.99\n"
      ]
    },
    {
      "cell_type": "markdown",
      "metadata": {},
      "source": [
        "## Review pseudocode\n",
        "\n",
        "Have user input a range of values (assume integers). Iterate through values. If the value is greater than the value of b, store “NO GOOD” in the variable message. If the value is less than the value of b, store \"Ok Good\".  Otherwise store “OK” in message."
      ]
    },
    {
      "cell_type": "markdown",
      "metadata": {},
      "source": [
        "## Debt Interest Calculator Solution\n",
        "\n",
        "**Input:**\n",
        "- Balance owing (positive, dollar value, 2 decimal places)\n",
        "- Days outstanding (positive, integer, 0 decimal places)\n",
        "\n",
        "**Processing:**\n",
        "- GET balance owing\n",
        "- ASSUME user enters a positive dollar value\n",
        "- GET days outstanding\n",
        "- ASSUME user enters a positive integer\n",
        "- IF days outstanding >= 90\n",
        "  - THEN SET interest rate TO 15%\n",
        "- ELSE IF days outstanding >= 60\n",
        "  - THEN SET interest rate TO 10%\n",
        "- ELSE IF days outstanding >= 20\n",
        "  - THEN SET interest rate TO 5%\n",
        "- ELSE\n",
        "  - SET interest rate = 0%\n",
        "- IF balance owing > $1500\n",
        "  - THEN SET interest rate = interest rate + 2%\n",
        "  END IF\n",
        "- CALCULATE amount of interest = balance owing * interest rate\n",
        "- CALCULATE new balance owing = balance owing + amount of interest\n",
        "\n",
        "**Output:**\n",
        "- Balance owing (dollar value)\n",
        "- Days outstanding (integer)\n",
        "- Interest rate (integer percentage)\n",
        "- Amount of interest (dollar value)\n",
        "- New balance owing (dollar value)\n"
      ]
    },
    {
      "cell_type": "markdown",
      "metadata": {},
      "source": [
        "# Pseudo code for above example\n",
        "\n",
        "- GET range of values\n",
        "- ASSUME values are integers\n",
        "- FOR each value\n",
        "  - IF a > b THEN\n",
        "    - SET message TO \"No Good\"\n",
        "  - ELSE IF\n",
        "    - SET message to \"Ok Good\"\n",
        "  - ELSE \n",
        "    - SET message to \"Ok\"\n",
        "  - END IF\n",
        "- END FOR"
      ]
    },
    {
      "cell_type": "code",
      "execution_count": 9,
      "metadata": {},
      "outputs": [
        {
          "name": "stdout",
          "output_type": "stream",
          "text": [
            "str1 comes after str2\n"
          ]
        }
      ],
      "source": [
        "str1 = \"apple\"\n",
        "str2 = \"abble\"\n",
        "\n",
        "# str1.lower()\n",
        "# str2.lower()\n",
        "\n",
        "if str1 < str2:\n",
        "    print(\"str1 comes before str2\")\n",
        "elif str1 > str2:\n",
        "    print(\"str1 comes after str2\")\n",
        "else:\n",
        "    print(\"str1 and str2 are equal\")"
      ]
    },
    {
      "cell_type": "code",
      "execution_count": null,
      "metadata": {},
      "outputs": [],
      "source": [
        "# Simple Addition Algorithm\n",
        "\n",
        "# Function to add two numbers\n",
        "def add(a, b):\n",
        "    return a + b\n",
        "\n",
        "# Testing the algorithm with different test cases\n",
        "\n",
        "# Test case 1: Assumption Test\n",
        "# Using values that follow assumptions\n",
        "result1 = add(3, 4)\n",
        "print(\"Test Case 1 Result:\", result1)  # Expected Output: 7\n",
        "\n",
        "# Test case 2: Boundary Test\n",
        "# Using values that lie on boundaries\n",
        "result2 = add(0, 0)\n",
        "print(\"Test Case 2 Result:\", result2)  # Expected Output: 0\n",
        "\n",
        "# Test case 3: Range Test\n",
        "# Using values that fall within specified ranges\n",
        "result3 = add(-5, 5)\n",
        "print(\"Test Case 3 Result:\", result3)  # Expected Output: 0\n"
      ]
    },
    {
      "cell_type": "code",
      "execution_count": 10,
      "metadata": {},
      "outputs": [
        {
          "name": "stdout",
          "output_type": "stream",
          "text": [
            "Random Integer between 1 and 6: 5\n"
          ]
        }
      ],
      "source": [
        "import random\n",
        "# Example using randint() to generate a random integer within a specified range\n",
        "random_integer = random.randint(1, 6)  # Generates a random integer between 1 and 10 (inclusive)\n",
        "print(\"Random Integer between 1 and 6:\", random_integer)"
      ]
    },
    {
      "cell_type": "markdown",
      "metadata": {},
      "source": [
        "## Test 1 converage\n",
        "\n",
        "Test 1 covers any information presented in the modules \"Course Information and Introduction\", \"Problem Solving\", \"Logic\", \"Modelling Solutions\", \"Programming Concepts\", and \"Introduction to Python Programming\" including any material presented in the exercises and the readings.\n",
        "\n",
        "The test will consist of a number of short questions, similar to quiz questions, and will also have short and long answer questions that resemble the assigned exercises.  For example you may be asked to take a problem and create an IPO chart using pseudocode, or to interpret or test a flow chart, or to convert a piece of pseudocode into Python code."
      ]
    },
    {
      "cell_type": "markdown",
      "metadata": {},
      "source": [
        "\n",
        "\n",
        "\"Computers are good at following instructions, but not at reading your mind.\" – Donald Knuth\n",
        "\n",
        "- **Term Test 1 Dates:**\n",
        "  - Green Class: Thursday, October 19th (regular class time)\n",
        "  - Orange Class: Friday, October 20th (regular class time)\n",
        "- **Reminder:** Complete the Respondus Practice Quiz as soon as possible.\n",
        "\n",
        "#### Elements of Programming\n",
        "\n",
        "- Problem-solving in programming involves input, output, and processing elements.\n",
        "- How to implement these concepts in Python.\n",
        "\n",
        "### Terminology\n",
        "\n",
        "#### Variable\n",
        "\n",
        "- A part of the program that can \"remember\" values.\n",
        "- Acts like boxes in memory, holding one thing at a time.\n",
        "- Gives a \"friendly\" name to a memory location.\n",
        "- Examples: `length = 3`, `word = \"Hello\"`\n",
        "\n",
        "#### Expression\n",
        "\n",
        "- Any piece of code providing a value.*\n",
        "- Examples: `3`, `3 + 2`, `x > 10`, `\"Hi\"`, `len(\"Hi\")`\n",
        "- literal expressions* are typed in directly and have no hidden meaning (!= variables, or constants, = 41, )\n",
        "- Python treats literal, variable and calcualted expressions similarily for the most part.\n",
        "- a basic output statement (print) accepts a a string expression (e.g.,'Hello') as input\n",
        "\n",
        "#### Operand\n",
        "- Describes values/variables in an expression. For example, in 5+2, the numbers 5 and 3 are operands, and the + symbol is the operator.\n",
        "\n",
        "\n",
        "#### Statement*\n",
        "\n",
        "- The smallest complete action in a program, similar to a sentence.\n",
        "- Examples: `print(\"Hello\")`, `num = input(\"Enter a number: \")`\n",
        "\n",
        "\n",
        "### Getting Input From the Keyboard\n",
        "\n",
        "- Input from the user is obtained using the `input` function.\n",
        "- Format: `input(string)` where `string` is the user prompt.\n",
        "- Example: `input(\"What is your name? \")`\n",
        "\n",
        "### Variables\n",
        "\n",
        "- Variables are memory locations where information can be saved and retrieved.\n",
        "- Think of them as boxes to store and access data.\n",
        "- Each variable holds only one thing at a time.\n",
        "- Example: `x = 5`, later `x = 10` replaces the previous value of `x`.\n",
        "\n",
        "### Variables and Literals\n",
        "\n",
        "- A value defined explicitly in source code is a literal.\n",
        "- Variables may change during program execution; literals do not.\n",
        "- Example: `myNumber = 15` (myNumber is a variable, 15 is a literal).\n",
        "\n",
        "### Counters and Accumulators\n",
        "\n",
        "- Counters track counts of items and may increase, decrease, or adjust by a fixed amount.\n",
        "- Accumulators maintain running totals, often increasing by variable amounts.\n",
        "- Initialization of counters and accumulators is essential, typically set to 0 or 1.\n",
        "\n",
        "### Input Example\n",
        "\n",
        "- Example of taking user input and storing it in a variable.\n",
        "- Multiple inputs are saved into the same variable.\n",
        "\n",
        "\n",
        "### Putting Things in Memory\n",
        "\n",
        "- To store data in memory, use assignment statements.\n",
        "- Format: `variable_name = expression`, not an equal sign, it means \"assign.\"\n",
        "- print and input are standard functions in Python\n",
        "\n",
        "### Sequential Execution\n",
        "\n",
        "- Programs execute statements sequentially, one at a time.\n",
        "- Variables behave independently unless explicitly linked.\n",
        "\n",
        "### What's in a Name?\n",
        "\n",
        "- Variable names have rules, must start with a letter or underscore, can contain numbers, are case-sensitive, and avoid reserved keywords.\n",
        "- Can only start with '_' or a letter.\n",
        "- Examples: `_name`, `name_of_dog`, `house_number`\n",
        "- For this course, appropraite names would be my_code *&* myCode (i.e., camel case, not always as readable as underscore ) instead of mycode & _mycode\n",
        "- case sensitivite (myCode != MYCODE)\n",
        "\n",
        "### Output to the Screen\n",
        "\n",
        "- The `print` statement displays output on the screen.\n",
        "- Format: `print(string)`\n",
        "- Additional parameters like `end` and `sep` control output formatting.\n",
        "- g = print('hello')\n",
        "  type(g)\n",
        "\n",
        "### What Are Strings?\n",
        "\n",
        "- Strings are sequences of characters enclosed in quotation marks.\n",
        "- Examples: `\"Hello World\"`, `\"123 Days of Hello\"`, `\"123\"`\n",
        "- Characters can include letters, numbers, and symbols.\n",
        "- In order for python to recognize space, put them inside a string, otherwise space will just improve readability for humnans\n",
        "\n",
        "### Typed Variables\n",
        "\n",
        "- Some languages require declaring and typing variables before use (strongly typed).\n",
        "- Python allows variable assignment without prior typing (loosely typed).\n",
        "\n",
        "### Pseudocode Exercise\n",
        "\n",
        "- Pseudocode Selection Exercise (below)\n",
        "\n",
        "Concise coding isn't always better as maintaing code over time will rely on other factors like readability. "
      ]
    },
    {
      "cell_type": "markdown",
      "metadata": {},
      "source": [
        "## Counter Example"
      ]
    },
    {
      "cell_type": "code",
      "execution_count": 21,
      "metadata": {},
      "outputs": [
        {
          "name": "stdout",
          "output_type": "stream",
          "text": [
            "4\n"
          ]
        }
      ],
      "source": [
        "def add(x,y):\n",
        "    return x+y\n",
        "def add2(x,y):\n",
        "    print(x+y)\n",
        "\n",
        "x = add(2,2)\n",
        "y = add2(2,2)"
      ]
    },
    {
      "cell_type": "code",
      "execution_count": 23,
      "metadata": {},
      "outputs": [
        {
          "data": {
            "text/plain": [
              "NoneType"
            ]
          },
          "execution_count": 23,
          "metadata": {},
          "output_type": "execute_result"
        }
      ],
      "source": [
        "type(y)"
      ]
    },
    {
      "cell_type": "code",
      "execution_count": 3,
      "metadata": {},
      "outputs": [
        {
          "name": "stdout",
          "output_type": "stream",
          "text": [
            "Count: 13\n",
            "Total: 130\n"
          ]
        }
      ],
      "source": [
        "# Initialize a counter and total\n",
        "count = 0\n",
        "total = 0\n",
        "\n",
        "# Simulate a loop or some operation where the counter is incremented and total is accumulated\n",
        "for i in range(1, 14):  # Assume we're processing 10 items\n",
        "    # Increment the counter\n",
        "    count = count + 1\n",
        "    count += 1\n",
        "\n",
        "    # Accumulate the total (e.g., sum of values)\n",
        "    value = 10  # Replace with the actual value you're processing\n",
        "    total = total + value\n",
        "\n",
        "# After the loop or operation, you can print the results\n",
        "print(\"Count:\", count)\n",
        "print(\"Total:\", total)"
      ]
    },
    {
      "cell_type": "code",
      "execution_count": 13,
      "metadata": {},
      "outputs": [
        {
          "name": "stdout",
          "output_type": "stream",
          "text": [
            "The letter 'F' appears 4 times in the sentence.\n"
          ]
        }
      ],
      "source": [
        "# Define a function to count occurrences of a letter in a sentence\n",
        "def count_letter(sentence, letter):\n",
        "    count = 0\n",
        "    for char in sentence:\n",
        "        if char == letter:\n",
        "            count += 1\n",
        "    return count\n",
        "\n",
        "# Input sentence\n",
        "sentence = \"This is an example of counting the letter FFFF in a sentence.\"\n",
        "\n",
        "# Count occurrences of \"F\" in the sentence\n",
        "letter_to_count = \"F\"\n",
        "result = count_letter(sentence, letter_to_count)\n",
        "\n",
        "# Print the result\n",
        "print(f\"The letter '{letter_to_count}' appears {result} times in the sentence.\")\n"
      ]
    },
    {
      "cell_type": "code",
      "execution_count": 4,
      "metadata": {},
      "outputs": [
        {
          "name": "stdout",
          "output_type": "stream",
          "text": [
            "Hello, World!\n",
            "First line\n",
            "\n",
            "Second line\n",
            "Apple Banana Cherry\n",
            "Red\n",
            "Green\n",
            "Blue\n"
          ]
        }
      ],
      "source": [
        "# Printing with `end` and `sep` Parameters:\n",
        "\n",
        "# Using `end` parameter to control end-of-line behavior:\n",
        "# `end=\"\"` stays on the same line\n",
        "print(\"Hello, \", end=\"\")\n",
        "print(\"World!\")  # Output: Hello, World!\n",
        "\n",
        "# `end=\"\\n\\n\"` double spaces the next line\n",
        "print(\"First line\", end=\"\\n\\n\")\n",
        "print(\"Second line\")  # Output:\n",
        "                     # First line\n",
        "                     #\n",
        "                     # Second line\n",
        "\n",
        "# Using `sep` parameter to control item separation:\n",
        "# `sep=\" \"` separates items with a single space\n",
        "print(\"Apple\", \"Banana\", \"Cherry\")  # Output: Apple Banana Cherry\n",
        "\n",
        "# `sep=\"\\n\"` separates items with a newline\n",
        "print(\"Red\", \"Green\", \"Blue\", sep=\"\\n\")  # Output:\n",
        "                                        # Red\n",
        "                                        # Green\n",
        "                                        # Blue\n"
      ]
    },
    {
      "cell_type": "markdown",
      "metadata": {},
      "source": [
        "## INPUT examples\n",
        "\n",
        "String expression given to input function is shown to the user as a prompt\n",
        "\n",
        "The value that is returnd from the input function is what the user typed in\\\n",
        "\n",
        "What will my code do here?\n",
        "\n",
        "Variable = input( \"What is your name? \")"
      ]
    },
    {
      "cell_type": "code",
      "execution_count": 1,
      "metadata": {},
      "outputs": [
        {
          "name": "stdout",
          "output_type": "stream",
          "text": [
            "Jack is my favourite person\n"
          ]
        }
      ],
      "source": [
        "list = ['Jack', 'Mike']\n",
        "list[0]\n",
        "\n",
        "print(list[0], \"is my favourite person\")"
      ]
    },
    {
      "cell_type": "markdown",
      "metadata": {},
      "source": [
        "Enter a number, 90\n",
        "\n",
        "90 is my favorite number"
      ]
    },
    {
      "cell_type": "code",
      "execution_count": 11,
      "metadata": {},
      "outputs": [
        {
          "name": "stdout",
          "output_type": "stream",
          "text": [
            "99 is my favoritee number\n"
          ]
        }
      ],
      "source": [
        "number = input(\"Enter a number \")\n",
        "print(number, 'is my favoritee number')"
      ]
    },
    {
      "cell_type": "markdown",
      "metadata": {},
      "source": [
        "\"Do you want heads or tails? Heads\n",
        "Heads! You're Right"
      ]
    },
    {
      "cell_type": "code",
      "execution_count": 38,
      "metadata": {},
      "outputs": [
        {
          "data": {
            "text/plain": [
              "'Apple'"
            ]
          },
          "execution_count": 38,
          "metadata": {},
          "output_type": "execute_result"
        }
      ],
      "source": [
        "string = 'APPLE'\n",
        "string.capitalize()"
      ]
    },
    {
      "cell_type": "code",
      "execution_count": 26,
      "metadata": {},
      "outputs": [
        {
          "name": "stdout",
          "output_type": "stream",
          "text": [
            "You chose heads. It's heads! You were right.\n"
          ]
        }
      ],
      "source": [
        "import random\n",
        "\n",
        "user_choice = input(\"Do you want heads or tails? \").lower()\n",
        "coin_toss = random.choice([\"heads\", \"tails\"])\n",
        "\n",
        "if user_choice == coin_toss:\n",
        "    result = \"right\" \n",
        "else:\n",
        "    result = \"wrong\"\n",
        "print(f\"You chose {user_choice}. It's {coin_toss}! You were {result}.\")"
      ]
    },
    {
      "cell_type": "markdown",
      "metadata": {},
      "source": [
        "1. If the value of `a` is greater than the value of `b`, store \"NO GOOD\" in the variable `message`. Otherwise, store \"OK\" in `message`.\n",
        "\n",
        "2. If `weeks_pay` exceeds `maximum_pay`, set `valid` to \"N\" and call the procedure `questionable_data_return`. Otherwise, continue to the next statement.\n",
        "\n",
        "3. Have the user input a `discount_code` (A, B, C, or D). Use this code to calculate the new price of an item after the following discounts are applied:\n",
        "   - If `discount_code` is \"A\", apply a 5% discount.\n",
        "   - If `discount_code` is \"B\", apply a 10% discount.\n",
        "   - If `discount_code` is \"C\", apply a 20% discount.\n",
        "   - If `discount_code` is \"D\", apply a 30% discount.\n",
        "\n",
        "4. If an employee works 40 hours or less, they are paid the regular hourly rate, and their salary is the number of hours multiplied by the rate of pay. Overtime is paid at time and a half.\n",
        "\n",
        "5. Store either `reorder_quantity` or zero in `order_amount`, depending on whether the sum of `on_hand` and `on_order` has or has not fallen below `reorder_point`."
      ]
    },
    {
      "cell_type": "markdown",
      "metadata": {},
      "source": [
        "\n",
        "\n",
        "**1. If-Else Statement to Compare a and b:**\n",
        "\n",
        "```markdown\n",
        "```markdown\n",
        "IF a > b THEN\n",
        "    SET message TO \"NO GOOD\"\n",
        "ELSE\n",
        "    SET message TO \"OK\"\n",
        "END IF\n",
        "```\n",
        "\n",
        "**2. If-Then-Else Statement for Checking weeks_pay and Calling a Procedure:**\n",
        "\n",
        "```markdown\n",
        "IF weeks_pay > maximum_pay THEN\n",
        "    SET valid TO \"N\"\n",
        "    CALL questionable_data_return()\n",
        "END IF\n",
        "```\n",
        "\n",
        "**3. Using If-Else If-Else to Apply Discounts Based on discount_code:**\n",
        "\n",
        "```markdown\n",
        "GET discount_code\n",
        "ASSUME discount_code is one of \"A\", \"B\", \"C\", or \"D\"\n",
        "\n",
        "IF discount_code EQUALS \"A\" THEN\n",
        "    SET discount TO 5%\n",
        "ELSE IF discount_code EQUALS \"B\" THEN\n",
        "    SET discount TO 10%\n",
        "ELSE IF discount_code EQUALS \"C\" THEN\n",
        "    SET discount TO 20%\n",
        "ELSE\n",
        "    SET discount TO 30%\n",
        "END IF\n",
        "\n",
        "CALCULATE price AS price – price * discount\n",
        "```\n",
        "\n",
        "**4. If-Else Statement to Calculate Employee Salary with Overtime:**\n",
        "\n",
        "```markdown\n",
        "IF hours <= 40 THEN\n",
        "    CALCULATE salary AS hours * rate\n",
        "ELSE\n",
        "    CALCULATE salary AS (40 * rate) + (hours – 40) * rate * 1.5\n",
        "END IF\n",
        "```\n",
        "\n",
        "**5. If-Else Statement to Determine order_amount Based on Inventory Levels:**\n",
        "\n",
        "```markdown\n",
        "CALCULATE sum AS on_hand + on_order\n",
        "IF sum < reorder_point THEN\n",
        "    SET order_amount TO reorder_quantity\n",
        "ELSE\n",
        "    SET order_amount TO 0\n",
        "END IF\n",
        "```\n"
      ]
    },
    {
      "cell_type": "markdown",
      "metadata": {},
      "source": [
        "## Memory\n",
        "\n",
        "Computer memory consists of on/off switches called transistors, representing binary data. Data types help interpret this data. To access information, we load variables from memory; to keep it, we save it. A byte, the smallest unit, holds 8 bits but only one thing at a time. We use variable names instead of lengthy memory addresses. Hexadecimal (base 16 numbers), like \"09gg7aty,\" is a special numbering system used in applications like web design color codes.\n",
        "\n",
        "RAM = random access memory\n",
        "\n",
        "- A binary pattern representing a compound or group of information/data is known as a data structure. \n",
        "- For instance, the data structure \"lists\" can hold multiple values within it, making it a useful tool for managing collections of data. \n",
        "- Integers can be precisely represented by binary patterns, while floating-point numbers (e.g., 0.1) may not have an exact binary representation due to their decimal precision. \n",
        "- \"Precision\" in the context of numbers or calculations refers to the number of accurate decimal places maintained in a value. \n",
        "- Boolean values have two possible outputs: True or False. By asking specific True/False questions that cover various possibilities, you can generate multiple potential outcomes. \n",
        "- In computer programming, \"strings\" are sequences of characters that hold special meaning to us. They are often used for text and can represent words, sentences, or other textual data.\n",
        "\n",
        "\n",
        "python uses pattern matching to tell you when statement ends\n",
        "\n",
        "\n",
        "a = 2 (i.e., save 2 into a)\n",
        "\n",
        "b = 3\n",
        "\n",
        "a= b \n",
        "\n",
        "value of b to be copied to the variable a\n",
        "\n",
        "\n",
        "\n"
      ]
    },
    {
      "cell_type": "markdown",
      "metadata": {},
      "source": [
        "The \"DDIT\" approach to software development involves several key steps:\n",
        "\n",
        "1. **Define**: Start by clearly defining the problem and its requirements. Use techniques like brainstorming and creating an IPO (Input-Processing-Output) chart to organize your thoughts. This step sets the foundation for your project.\n",
        "\n",
        "2. **Design**: Develop a high-level plan for how you'll address the defined problem. This may involve creating architectural designs, user interface layouts, or data models. The goal is to abstractly structure your solution before diving into coding.\n",
        "\n",
        "3. **Implement**: Write the actual code based on your design. This coding phase includes testing, debugging, and ensuring your code functions correctly. Decomposition is essential here, breaking coding tasks into manageable pieces.\n",
        "\n",
        "4. **Test**: Thoroughly test your software. It's recommended to test your logic separately from the code to catch and resolve any issues early on. Use the same tests you used during the design phase to validate your programming. Be prepared to repeat the testing step if needed.\n",
        "\n",
        "5. **Debug (Optional)**: Sometimes, fixing one issue in your code can introduce new problems. Debugging is the process of identifying and correcting these issues. While not explicitly mentioned, debugging is an inherent part of the implementation and testing phases.\n",
        "\n",
        "In summary, the \"DDIT\" approach emphasizes careful planning and testing throughout the software development process to minimize errors and ensure the final product meets the defined requirements."
      ]
    },
    {
      "cell_type": "code",
      "execution_count": 4,
      "metadata": {},
      "outputs": [
        {
          "name": "stdout",
          "output_type": "stream",
          "text": [
            "Change owed: $ 0.25\n",
            "Quarters: 1\n"
          ]
        }
      ],
      "source": [
        "# Input the purchase amount and the amount given by the customer\n",
        "purchase_amount = float(input(\"Enter the purchase amount: $\"))\n",
        "amount_given = float(input(\"Enter the amount given by the customer: $\"))\n",
        "\n",
        "# Calculate the change owed\n",
        "change_owed = round(amount_given - purchase_amount, 2)\n",
        "\n",
        "if change_owed == 0:\n",
        "    print(\"No change is owed.\")\n",
        "else:\n",
        "    print(\"Change owed: $\", change_owed)\n",
        "\n",
        "    # Define coin values and corresponding names\n",
        "    coin_values = [1.00, 0.25, 0.10, 0.05]\n",
        "    coin_names = ['Dollars', 'Quarters', 'Dimes', 'Nickels']\n",
        "\n",
        "    # Calculate and print change denominations\n",
        "    for i in range(len(coin_values)):\n",
        "        value = coin_values[i]\n",
        "        name = coin_names[i]\n",
        "        num_coins = int(change_owed / value)\n",
        "        if num_coins > 0:\n",
        "            print(f\"{name}: {num_coins}\")\n",
        "            change_owed -= num_coins * value\n"
      ]
    },
    {
      "cell_type": "code",
      "execution_count": 5,
      "metadata": {},
      "outputs": [
        {
          "name": "stdout",
          "output_type": "stream",
          "text": [
            "Amount of transaction: $2.65\n",
            "You got 2 dollars, 1 quarters, 1 dimes, and 0 nickels back in change.\n"
          ]
        }
      ],
      "source": []
    },
    {
      "cell_type": "code",
      "execution_count": null,
      "metadata": {},
      "outputs": [],
      "source": [
        "import random\n",
        "\n",
        "def main():\n",
        "    # Calculate the amount of the transaction\n",
        "    amount = random.randint(0,20) + round( random.randint(0,100)/100, 2 )\n",
        "    print(f\"Amount of transaction: ${amount:.2f}\")\n",
        "    \n",
        "    # Get the payment amount from the user\n",
        "    payment = float(input(\"Enter the amount of payment: $\"))\n",
        "    while payment < amount:\n",
        "        print(\"Payment must be greater than or equal to the amount.\")\n",
        "        payment = float(input(\"Enter the amount of payment: $\"))\n",
        "    \n",
        "    # Calculate the change\n",
        "    change = payment - amount\n",
        "    if change <= 0:\n",
        "        print(\"No change owed.\")\n",
        "        return\n",
        "\n",
        "    # Initialize change variables\n",
        "    d, q, i, n = 0, 0, 0, 0\n",
        "\n",
        "    # Calculate dollars owed\n",
        "    d = int(change)  \n",
        "    change -= d  # Subtract the dollar amount from change\n",
        "    \n",
        "    # If there's still change remaining\n",
        "    if change > 0:\n",
        "        # Calculate quarters owed\n",
        "        q = int(change / 0.25)\n",
        "        change -= q * 0.25\n",
        "        \n",
        "        # Calculate dimes owed\n",
        "        i = int(change / 0.10)\n",
        "        change -= i * 0.10\n",
        "        \n",
        "        # Calculate nickels owed\n",
        "        n = int(change / 0.05)\n",
        "        change -= n * 0.05\n",
        "        \n",
        "        # Adjust for remaining change\n",
        "        # change -= (q*0.25 + i*0.10 + n *0.05)\n",
        "        n += round(change * 20)  # Convert remaining change to number of nickels\n",
        "\n",
        "    print(f\"You got {d} dollars, {q} quarters, {i} dimes, and {n} nickels back in change.\")\n",
        "\n",
        "main()\n"
      ]
    },
    {
      "cell_type": "markdown",
      "metadata": {},
      "source": [
        "## While loop\n",
        "A \"while\" loop is a fundamental concept in programming that allows you to repeatedly execute a block of code as long as a certain condition is true. It's like giving the computer a set of instructions and telling it to keep doing them until a specific condition is no longer met."
      ]
    },
    {
      "cell_type": "code",
      "execution_count": 15,
      "metadata": {},
      "outputs": [
        {
          "name": "stdout",
          "output_type": "stream",
          "text": [
            "1\n",
            "2\n",
            "3\n",
            "4\n",
            "5\n"
          ]
        }
      ],
      "source": [
        "# Initialize a variable to control the loop\n",
        "count = 1\n",
        "\n",
        "# Set up the while loop with a condition\n",
        "while count <= 5:\n",
        "    # Inside the loop: Print the current value of 'count'\n",
        "    print(count)\n",
        "    \n",
        "    # Update the 'count' variable\n",
        "    count = count + 1\n",
        "\n",
        "# The loop exits when 'count' is no longer less than or equal to 5\n"
      ]
    },
    {
      "cell_type": "markdown",
      "metadata": {},
      "source": [
        "## Variable trace\n",
        "A variable trace, often referred to as variable tracking or variable tracing, is a concept used in programming to monitor and record the changes to a variable's value throughout a program's execution."
      ]
    },
    {
      "cell_type": "code",
      "execution_count": 16,
      "metadata": {},
      "outputs": [
        {
          "name": "stdout",
          "output_type": "stream",
          "text": [
            "Initial value of x: 5\n",
            "After adding 3, x is now: 8\n",
            "After multiplying by 2, x is now: 16\n",
            "After subtracting 7, x is now: 9\n",
            "Final value of x: 9\n"
          ]
        }
      ],
      "source": [
        "# Define a variable\n",
        "x = 5\n",
        "\n",
        "# Trace the variable by printing its value at different points\n",
        "print(\"Initial value of x:\", x)\n",
        "\n",
        "# Modify the variable\n",
        "x = x + 3\n",
        "print(\"After adding 3, x is now:\", x)\n",
        "\n",
        "# Perform another operation\n",
        "x = x * 2\n",
        "print(\"After multiplying by 2, x is now:\", x)\n",
        "\n",
        "# Update the variable again\n",
        "x = x - 7\n",
        "print(\"After subtracting 7, x is now:\", x)\n",
        "\n",
        "# Final value\n",
        "print(\"Final value of x:\", x)\n"
      ]
    },
    {
      "cell_type": "markdown",
      "metadata": {},
      "source": [
        "### Debug code"
      ]
    },
    {
      "cell_type": "code",
      "execution_count": 46,
      "metadata": {},
      "outputs": [
        {
          "name": "stdout",
          "output_type": "stream",
          "text": [
            "You did not select an appropriate choice\n"
          ]
        }
      ],
      "source": [
        "myNumber = input( \"Enter a choice from 1 to 3: \" )\n",
        "\n",
        "if myNumber == 1:\n",
        "    print( \"Menu Option 1\" )\n",
        "elif myNumber == 2:\n",
        "    print( \"Menu Option 2\" )\n",
        "elif myNumber == 3:\n",
        "    print( \"Menu Option 3\" )\n",
        "else:\n",
        "    print( \"You did not select an appropriate choice\" )"
      ]
    },
    {
      "cell_type": "code",
      "execution_count": 42,
      "metadata": {},
      "outputs": [
        {
          "ename": "SyntaxError",
          "evalue": "invalid syntax (296161301.py, line 7)",
          "output_type": "error",
          "traceback": [
            "\u001b[0;36m  File \u001b[0;32m\"/var/folders/m1/qh80w4dn7p75yknjlh5qgdjc0000gn/T/ipykernel_18594/296161301.py\"\u001b[0;36m, line \u001b[0;32m7\u001b[0m\n\u001b[0;31m    $perL = float(input(\"How much does gas cost per liter? \"))\u001b[0m\n\u001b[0m    ^\u001b[0m\n\u001b[0;31mSyntaxError\u001b[0m\u001b[0;31m:\u001b[0m invalid syntax\n"
          ]
        }
      ],
      "source": [
        "# This program compares the effect of driving at different speeds \n",
        "# on your fuel consumption.  The user will enter the distance of \n",
        "# their drive in kilometers and the cost of gas per liter.  The \n",
        "# program will report back the cost of doing that drive at\n",
        "# different speeds.\n",
        "dist = float(input(\"How long is your daily drive in Kilometers? \"))\n",
        "$perL = float(input(\"How much does gas cost per liter? \"))\n",
        "mpg = float(input(\"What is your car's miles per gallon rating? \"))\n",
        "\n",
        "# 0.6 mile = 1 Kilometer, 1 US gallon = 3.78 L, approximately\n",
        "# convert miles per gallon to kilometers per liter\n",
        "mpg2kpl = mpg /0.6 / 3.78\n",
        "\n",
        "# milage tables start at 55mph, need to convert to kph\n",
        "$perday = $perL*(dist/mpg2kpl)\n",
        "\n",
        "# calculations for diving at 100 km/h\n",
        "$at100 = round( $perday*1.03, 2)\n",
        "print(\"\\nIf you drive at \" + str(60*1.6)+\" km/h it will cost $\"+\\\n",
        "str($at100)+\" per day\")\n",
        "print(\"That's $\"+str(round($at100*365.4,2))+\" per year.\\n\")\n",
        "\n",
        "# calculations for diving at 120 km/h\n",
        "$at120 = round( $perday*1.23, 2)\n",
        "print(\"If you drive at \" + str(75*1.6)+\" km/h it will cost $\"+\\\n",
        "str( $at120)+\" per day\")\n",
        "print(\"That's $\"+str(round($at120*365.4,2))+\" per year.\\n\")\n",
        "\n",
        "# show the difference in cost\n",
        "print(\"That's a difference of \" +\\\n",
        "str( round( ( $at120 - $at100 ) * 365.4, 2 ) ) +\\\n",
        "\" per year to drive 20 km/h faster.\" )\n",
        "\n",
        "# calculate the time for the trip\n",
        "# how many minutes to drive dist at 100 kph?\n",
        "timeToDriveAt100 = dist * ( 60 / 100 )\n",
        "# how many minutes to drive dist at 120 kph?\n",
        "time_ToDriveAt120 = dist * ( 60 / 120 )\n",
        "\n",
        "# calculate and show the difference in time\n",
        "timeDiff = timeToDriveAt100 - time_ToDriveAt120\n",
        "print(\"You save \" + str(timeDiff) + \" minutes per day.\")"
      ]
    },
    {
      "cell_type": "code",
      "execution_count": null,
      "metadata": {},
      "outputs": [],
      "source": [
        "# This program contains 6 bugs. Find them and fix them\n",
        "# to produce a working program. The program will accept two\n",
        "# integers from the user which represent the two sides of a\n",
        "# rectangle. The program will calculate the area of the\n",
        "# rectangle and print that to the screen. If the user enters\n",
        "# anything other than an integer the program will exit.\n",
        "\n",
        "raw = input( \"Enter the long dimension of the rectangle: )\n",
        "if raw isdigit():\n",
        "\tlongSide = int( raw )\n",
        "else:\n",
        "\texit()\n",
        "\n",
        "raw = input( \"Enter the short dimension of the rectangle: \" )\n",
        "if raw.isdigit():\n",
        "shortSide = int( raw )\n",
        "else\n",
        "\texit()\n",
        "\n",
        "print( \"area of rectangle is : \" longSide ^ shortSide )\n"
      ]
    },
    {
      "cell_type": "markdown",
      "metadata": {},
      "source": [
        "### Solution to above"
      ]
    },
    {
      "cell_type": "code",
      "execution_count": 43,
      "metadata": {},
      "outputs": [
        {
          "name": "stdout",
          "output_type": "stream",
          "text": [
            "\n",
            "If you drive at 96.0 km/h it will cost $35.74 per day\n",
            "That's $13059.4 per year.\n",
            "\n",
            "If you drive at 120.0 km/h it will cost $42.68 per day\n",
            "That's $15595.27 per year.\n",
            "\n",
            "That's a difference of 2535.88 per year to drive 20 km/h faster.\n",
            "You save 10.0 minutes per day.\n"
          ]
        }
      ],
      "source": [
        "distance = float( input( \"How long is your daily drive in Kilometers? \" ) )\n",
        "costPerLitre = float( input( \"How much does gas cost per liter? \" ) )\n",
        "milesPerGallon = float( input( \"What is your car's miles per gallon rating? \" ) )\n",
        "\n",
        "# 0.6 mile = 1 Kilometer, 1 US gallon = 3.78 L, approximately\n",
        "# convert miles per gallon to kilometers per liter\n",
        "# mpgTokpl - miles per gallon to kilometres per litre\n",
        "mpgTokpl = milesPerGallon / 0.6 / 3.78\n",
        "\n",
        "# milage tables start at 55mph, need to convert to kph\n",
        "costPerDay = costPerLitre * ( distance / mpgTokpl )\n",
        "\n",
        "# calculations for diving at 100 km/h\n",
        "costAt100 = round( costPerDay * 1.03, 2 )\n",
        "print( \"\\nIf you drive at \" + str( 60 * 1.6 ) + \" km/h it will cost $\" + \\\n",
        "str( costAt100 ) + \" per day\" )\n",
        "print( \"That's $\" + str( round( costAt100 * 365.4, 2 ) ) + \" per year.\\n\" )\n",
        "\n",
        "# calculations for diving at 120 km/h\n",
        "costAt120 = round( costPerDay * 1.23, 2 )\n",
        "print( \"If you drive at \" + str( 75 * 1.6 ) + \" km/h it will cost $\" + \\\n",
        "str( costAt120 ) + \" per day\" )\n",
        "print( \"That's $\" + str( round( costAt120 * 365.4, 2 ) ) + \" per year.\\n\" )\n",
        "\n",
        "# show the difference in cost\n",
        "print( \"That's a difference of \" + \\\n",
        "str( round( ( costAt120 - costAt100 ) * 365.4, 2 ) ) + \\\n",
        "\" per year to drive 20 km/h faster.\" )\n",
        "\n",
        "# calculate the time for the trip\n",
        "# how many minutes to drive dist at 100 kph?\n",
        "timeToDriveAt100 = distance * ( 60 / 100 )\n",
        "# how many minutes to drive dist at 120 kph?\n",
        "timeToDriveAt120 = distance * ( 60 / 120 )\n",
        "\n",
        "# calculate and show the difference in time\n",
        "timeDifference = timeToDriveAt100 - timeToDriveAt120\n",
        "print( \"You save \" + str( timeDifference ) + \" minutes per day.\" )"
      ]
    },
    {
      "cell_type": "code",
      "execution_count": 44,
      "metadata": {},
      "outputs": [
        {
          "name": "stdout",
          "output_type": "stream",
          "text": [
            "area of rectangle is :  4\n"
          ]
        }
      ],
      "source": [
        "raw = input( \"Enter the long dimension of the rectangle: \" )\n",
        "if raw.isdigit():\n",
        "\tlongSide = int( raw )\n",
        "else:\n",
        "\texit()\n",
        "\n",
        "raw = input( \"Enter the short dimension of the rectangle: \" )\n",
        "if raw.isdigit():\n",
        "        shortSide = int( raw )\n",
        "else:\n",
        "\texit()\n",
        "\n",
        "print( \"area of rectangle is : \", longSide * shortSide )\n"
      ]
    },
    {
      "cell_type": "markdown",
      "metadata": {},
      "source": [
        "## Compound Conditions"
      ]
    },
    {
      "cell_type": "markdown",
      "metadata": {},
      "source": []
    },
    {
      "cell_type": "code",
      "execution_count": 3,
      "metadata": {},
      "outputs": [
        {
          "name": "stdout",
          "output_type": "stream",
          "text": [
            "1\n",
            "2\n",
            "3\n",
            "4\n",
            "5\n",
            "6\n",
            "7\n",
            "8\n",
            "9\n",
            "10\n"
          ]
        }
      ],
      "source": [
        "list = range(1,11)\n",
        "for i in list:\n",
        "    print(i)"
      ]
    },
    {
      "cell_type": "code",
      "execution_count": 7,
      "metadata": {},
      "outputs": [],
      "source": [
        "list = [1,2,3,4,5,6,7,8,9,10]"
      ]
    },
    {
      "cell_type": "code",
      "execution_count": 40,
      "metadata": {},
      "outputs": [
        {
          "name": "stdout",
          "output_type": "stream",
          "text": [
            "\tCorrectly within the range of 6-9\n"
          ]
        }
      ],
      "source": [
        "# Using a compound condition is often more efficient than\n",
        "# using multiple IF statements.\n",
        "# An IF statement inside of another IF statement only gets\n",
        "# executed if BOTH conditions are True.  Another way to do this is\n",
        "# with a compound condition where you join both expressions with\n",
        "# an and operator.\n",
        "\n",
        "# Within strings, the '\\' character has a special meaning: it is an\n",
        "# 'escape sequence'.  It means that we want to do something special\n",
        "# from just printing a character.  What that special thing is, is\n",
        "# determined by the next character that follows.\n",
        "\n",
        "# \\n means to print to a new line\n",
        "# \\t means to print a tab character\n",
        "# \\\\ means to print the backslash character\n",
        "# \\\" means to print the double quotes character\n",
        "\n",
        "x = int( input( \"Enter a number from 6 to 9: \" ) )\n",
        "\n",
        "if x >= 6 and x <= 9:\n",
        "    print( \"\\tCorrectly within the range of 6-9\" )\n",
        "else:\n",
        "    print( \"\\tIncorrectly outside of range of 6-9.\" )\n",
        "    \n",
        "# Testing:\n",
        "# There should be a purpose to your testing.\n",
        "# Test for all possible pathways\n",
        "# Hit the boundary conditions\n",
        "# Test for the values: 5, 6, 9, 10, 8\n"
      ]
    },
    {
      "cell_type": "code",
      "execution_count": null,
      "metadata": {},
      "outputs": [],
      "source": [
        "# START\n",
        "\n",
        "# GET income\n",
        "# ASSUME income is a positive decimal value\n",
        "income = float( input( \"Enter your income: \" ) )\n",
        "\n",
        "# GET cost\n",
        "# ASSUME cost is a positive decimal value\n",
        "cost = float( input( \"Enter your cost: \" ) )\n",
        "\n",
        "# IF income >= cost THEN\n",
        "if income >= cost:\n",
        "    \n",
        "#   CALCULATE profit AS income - cost\n",
        "    profit = income - cost\n",
        "    \n",
        "#   DISPLAY profit\n",
        "    print( \"Your profit is ${0:<20.2f}.\".format( profit ) )\n",
        "    \n",
        "# ELSE\n",
        "else:\n",
        "    \n",
        "#   CALCULATE loss AS cost - income\n",
        "    loss = cost - income\n",
        "    \n",
        "#   DISPLAY loss\n",
        "    print( \"Your loss is ${0:<20.2f}.\".format( loss ) )\n",
        "    \n",
        "# END IF\n",
        "\n",
        "# END\n"
      ]
    },
    {
      "cell_type": "code",
      "execution_count": 1,
      "metadata": {},
      "outputs": [
        {
          "name": "stdout",
          "output_type": "stream",
          "text": [
            "1\n",
            "2\n",
            "3\n",
            "4\n",
            "5\n"
          ]
        }
      ],
      "source": [
        "# Initialize a variable to start from 1\n",
        "count = 1\n",
        "\n",
        "# Set the condition for the while loop\n",
        "while count <= 5:\n",
        "    print(count)  # Print the current value of 'count'\n",
        "    count += 1    # Increment 'count' by 1 in each iteration\n",
        "\n",
        "# The loop will continue until 'count' is no longer less than or equal to 5\n"
      ]
    },
    {
      "cell_type": "code",
      "execution_count": 12,
      "metadata": {},
      "outputs": [
        {
          "name": "stdout",
          "output_type": "stream",
          "text": [
            "\n",
            "Options:\n",
            "1. Addition\n",
            "2. Subtraction\n",
            "3. Multiplication\n",
            "4. Exit\n",
            "Result of Addition: 40.0\n",
            "Exiting the program.\n"
          ]
        }
      ],
      "source": [
        "# Main program loop\n",
        "while True:\n",
        "    print(\"\\nOptions:\")\n",
        "    print(\"1. Addition\")\n",
        "    print(\"2. Subtraction\")\n",
        "    print(\"3. Multiplication\")\n",
        "    print(\"4. Exit\")\n",
        "\n",
        "    choice = input(\"Enter your choice (1/2/3/4): \")\n",
        "\n",
        "    if choice == '4':\n",
        "        print(\"Exiting the program.\")\n",
        "        break  # Exit the loop if the user chooses option 4\n",
        "    elif choice in ('1', '2', '3'):\n",
        "        num1 = float(input(\"Enter the first number: \"))\n",
        "        num2 = float(input(\"Enter the second number: \"))\n",
        "\n",
        "        if choice == '1':\n",
        "            result = num1 + num2\n",
        "            operation = 'Addition'\n",
        "        elif choice == '2':\n",
        "            result = num1 - num2\n",
        "            operation = 'Subtraction'\n",
        "        elif choice == '3':\n",
        "            result = num1 * num2\n",
        "            operation = 'Multiplication'\n",
        "\n",
        "        print(f\"Result of {operation}: {result}\")\n",
        "    else:\n",
        "        print(\"Invalid choice. Please enter a valid option.\")\n",
        "\n",
        "    again = input(\"Do you want to perform another calculation? (yes/no): \")\n",
        "    if again.lower() != 'yes':\n",
        "        print(\"Exiting the program.\")\n",
        "        break\n"
      ]
    },
    {
      "cell_type": "markdown",
      "metadata": {},
      "source": [
        "Write the IPO chart, pseudocode, and flowchart for the following module.  This module would typically be part of a larger program.  We will just describe this one module. \n",
        "\n",
        "Get from the user the amount of money they wish to use as a loan down payment.  Validate the data by testing the following conditions: \n",
        "\n",
        "1.\tAmount must be greater than or equal to $10,000 \n",
        "\n",
        "2.\tAmount must be less than or equal to $1,000,000 \n",
        "\n",
        "3.\tData input cannot contain anything but numeric digits. \n",
        "\n",
        "If any of these tests fail print a suitable error message, and go back and ask for the loan down payment to be entered again."
      ]
    },
    {
      "cell_type": "markdown",
      "metadata": {},
      "source": [
        "### DDIT"
      ]
    },
    {
      "cell_type": "markdown",
      "metadata": {},
      "source": [
        "\n",
        "\n",
        "**Define:**\n",
        "In this phase, you define the problem you want to solve and gather requirements.\n",
        "\n",
        "* Problem: Create a simple calculator program that can perform basic arithmetic operations (addition, subtraction, multiplication, division).\n",
        "* Requirements: The calculator should take user input for two numbers and the operation to be performed.\n",
        "\n",
        "**Design:**\n",
        "In this phase, you design the structure of your program, including functions, data structures, and user interfaces.\n",
        "\n",
        "* Design a user interface: Decide how users will input numbers and select operations. For simplicity, you can use text input and a simple command-line interface.\n",
        "* Plan the functions: Plan the functions you'll need, such as functions for addition, subtraction, multiplication, and division.\n",
        "\n",
        "**Implement:**\n",
        "In this phase, you write the actual code for your program.\n",
        "\n",
        "Here's a simplified Python implementation:\n",
        "\n",
        "```python\n",
        "# Function to add two numbers\n",
        "def add(x, y):\n",
        "    return x + y\n",
        "\n",
        "# Function to subtract two numbers\n",
        "def subtract(x, y):\n",
        "    return x - y\n",
        "\n",
        "# Function to multiply two numbers\n",
        "def multiply(x, y):\n",
        "    return x * y\n",
        "\n",
        "# Function to divide two numbers\n",
        "def divide(x, y):\n",
        "    if y == 0:\n",
        "        return \"Cannot divide by zero\"\n",
        "    return x / y\n",
        "\n",
        "# Main program\n",
        "while True:\n",
        "    print(\"Options:\")\n",
        "    print(\"Enter 'add' for addition\")\n",
        "    print(\"Enter 'subtract' for subtraction\")\n",
        "    print(\"Enter 'multiply' for multiplication\")\n",
        "    print(\"Enter 'divide' for division\")\n",
        "    print(\"Enter 'quit' to end the program\")\n",
        "    \n",
        "    user_input = input(\": \")\n",
        "\n",
        "    if user_input == \"quit\":\n",
        "        break\n",
        "\n",
        "    if user_input in (\"add\", \"subtract\", \"multiply\", \"divide\"):\n",
        "        num1 = float(input(\"Enter first number: \"))\n",
        "        num2 = float(input(\"Enter second number: \"))\n",
        "\n",
        "        if user_input == \"add\":\n",
        "            print(\"Result: \", add(num1, num2))\n",
        "        elif user_input == \"subtract\":\n",
        "            print(\"Result: \", subtract(num1, num2))\n",
        "        elif user_input == \"multiply\":\n",
        "            print(\"Result: \", multiply(num1, num2))\n",
        "        elif user_input == \"divide\":\n",
        "            print(\"Result: \", divide(num1, num2))\n",
        "    else:\n",
        "        print(\"Invalid input\")\n",
        "\n",
        "```\n",
        "\n",
        "**Test:**\n",
        "In this phase, you thoroughly test your program to ensure it works correctly. Test it with various input values and edge cases to validate its functionality.\n"
      ]
    },
    {
      "cell_type": "markdown",
      "metadata": {},
      "source": [
        "\n",
        "**Define:**\n",
        "In this phase, you define the problem you want to solve and gather requirements.\n",
        "\n",
        "* Problem: Create a simple calculator program that can perform basic arithmetic operations (addition, subtraction, multiplication, division).\n",
        "* Requirements: The calculator should take user input for two numbers and the operation to be performed.\n",
        "\n",
        "**Design:**\n",
        "In this phase, you design the structure of your program, including functions, data structures, and user interfaces.\n",
        "\n",
        "* Design a user interface: Decide how users will input numbers and select operations. For simplicity, you can use text input and a simple command-line interface.\n",
        "* Plan the functions: Plan the functions you'll need, such as functions for addition, subtraction, multiplication, and division.\n",
        "\n",
        "**Implement:**\n",
        "In this phase, you write the actual code for your program.\n",
        "\n",
        "Python code:"
      ]
    },
    {
      "cell_type": "code",
      "execution_count": 3,
      "metadata": {},
      "outputs": [
        {
          "name": "stdout",
          "output_type": "stream",
          "text": [
            "Options:\n",
            "Enter 'add' for addition\n",
            "Enter 'subtract' for subtraction\n",
            "Enter 'multiply' for multiplication\n",
            "Enter 'divide' for division\n",
            "Enter 'quit' to end the program\n"
          ]
        }
      ],
      "source": [
        "# Function to add two numbers\n",
        "def add(x, y):\n",
        "    return x + y\n",
        "\n",
        "# Function to subtract two numbers\n",
        "def subtract(x, y):\n",
        "    return x - y\n",
        "\n",
        "# Function to multiply two numbers\n",
        "def multiply(x, y):\n",
        "    return x * y\n",
        "\n",
        "# Function to divide two numbers\n",
        "def divide(x, y):\n",
        "    if y == 0:\n",
        "        return \"Cannot divide by zero\"\n",
        "    return x / y\n",
        "\n",
        "# Main program\n",
        "while True:\n",
        "    print(\"Options:\")\n",
        "    print(\"Enter 'add' for addition\")\n",
        "    print(\"Enter 'subtract' for subtraction\")\n",
        "    print(\"Enter 'multiply' for multiplication\")\n",
        "    print(\"Enter 'divide' for division\")\n",
        "    print(\"Enter 'quit' to end the program\")\n",
        "    \n",
        "    user_input = input(\": \")\n",
        "\n",
        "    if user_input == \"quit\":\n",
        "        break\n",
        "\n",
        "    if user_input in (\"add\", \"subtract\", \"multiply\", \"divide\"):\n",
        "        num1 = float(input(\"Enter first number: \"))\n",
        "        num2 = float(input(\"Enter second number: \"))\n",
        "\n",
        "        if user_input == \"add\":\n",
        "            print(\"Result: \", add(num1, num2))\n",
        "        elif user_input == \"subtract\":\n",
        "            print(\"Result: \", subtract(num1, num2))\n",
        "        elif user_input == \"multiply\":\n",
        "            print(\"Result: \", multiply(num1, num2))\n",
        "        elif user_input == \"divide\":\n",
        "            print(\"Result: \", divide(num1, num2))\n",
        "    else:\n",
        "        print(\"Invalid input\")\n"
      ]
    },
    {
      "cell_type": "code",
      "execution_count": 16,
      "metadata": {},
      "outputs": [
        {
          "data": {
            "text/plain": [
              "[' eat banana']"
            ]
          },
          "execution_count": 16,
          "metadata": {},
          "output_type": "execute_result"
        }
      ],
      "source": [
        "tasks = []\n",
        "tasks.append('apple')\n",
        "tasks.append(' eat banana')\n",
        "tasks.remove('apple')\n",
        "tasks"
      ]
    },
    {
      "cell_type": "code",
      "execution_count": null,
      "metadata": {},
      "outputs": [],
      "source": [
        "# Create an empty list to store tasks\n",
        "tasks = []\n",
        "\n",
        "# Main program loop\n",
        "while True:\n",
        "    print(\"\\nOptions:\")\n",
        "    print(\"1. Add Task\")\n",
        "    print(\"2. View Tasks\")\n",
        "    print(\"3. Remove Tasks\")\n",
        "    print(\"3. Quit\")\n",
        "\n",
        "    choice = input(\"Enter your choice: \")\n",
        "\n",
        "    if choice == \"1\":\n",
        "        task = input(\"Enter a task: \")\n",
        "        tasks.append(task)\n",
        "        print(\"Task added!\")\n",
        "\n",
        "    elif choice == \"2\":\n",
        "        if tasks:\n",
        "            print(\"\\nTo-Do List:\")\n",
        "            for i in range(len(tasks)):\n",
        "                print(f\"{i+1}. {tasks[i]}\")\n",
        "        else:\n",
        "            print(\"Your to-do list is empty.\")\n",
        "\n",
        "    elif choice == \"3\":\n",
        "        print(\"Goodbye!\")\n",
        "        break\n",
        "\n",
        "    else:\n",
        "        print(\"Invalid choice. Please try again.\")\n"
      ]
    },
    {
      "cell_type": "markdown",
      "metadata": {},
      "source": [
        "## Assignment 2 Reminder\n",
        "Due October 27th\n"
      ]
    },
    {
      "cell_type": "markdown",
      "metadata": {},
      "source": [
        "### Modular programming"
      ]
    },
    {
      "cell_type": "markdown",
      "metadata": {},
      "source": [
        "In modular design, we want modules/functions/procedures/small programs (similar meanings in python) to be independent and reusable. Reusable code is sharing code with others, sharing code inside your own project, and sharing your own code with your own other projects.\n",
        "\n",
        "We provide inputs (i.e., parameters after the function name) to a function and every function returns some kind of value (e.g., print() returning None, ). A specific value provided in place of a paramter (placeholder) is an argument to fulfill the role of a parameter.\n",
        "\n",
        "Operators are symbolic representations of functions (i.e., does not use traditional functional call syntax/notation), e.g., '+')\n",
        "\n",
        "When cutting and pasting code with minimal changees (e.g., farm song), shortening and/or sharing code, creates an opportunity for using a function or module. Creating modules also improves maintabiltity (in addition to team programming, reeadability, reusable code, selling software) as you have one spot to change instead of many and not have to fix multiple lines which can creates errors.\n",
        "\n",
        "\n",
        "Q: When desining modules/functions (i.e., pseudocode/flow charts) what keyword do we use to indicate output of function or pass information back to our calling location\n",
        "\n",
        "RETURN"
      ]
    },
    {
      "cell_type": "markdown",
      "metadata": {},
      "source": []
    },
    {
      "cell_type": "code",
      "execution_count": 2,
      "metadata": {},
      "outputs": [
        {
          "name": "stdout",
          "output_type": "stream",
          "text": [
            "Old MacDonald had a farm, E-I-E-I-O!\n",
            "On his farm he had a cow, E-I-E-I-O!\n",
            "With a moo here, and a moo moo there,\n",
            "Here a moo, there a moo,\n",
            "Everywhere a moo moo,\n",
            "Old MacDonald had a farm, E-I-E-I-O!\n"
          ]
        }
      ],
      "source": [
        "print( \"Old MacDonald had a farm, E-I-E-I-O!\" )\n",
        "print( \"On his farm he had a cow, E-I-E-I-O!\" )\n",
        "print( \"With a moo here, and a moo moo there,\" )\n",
        "print( \"Here a moo, there a moo,\" )\n",
        "print( \"Everywhere a moo moo,\" )\n",
        "print( \"Old MacDonald had a farm, E-I-E-I-O!\" )"
      ]
    },
    {
      "cell_type": "code",
      "execution_count": null,
      "metadata": {},
      "outputs": [],
      "source": [
        "print( \"Old MacDonald had a farm, E-I-E-I-O!\" )\n",
        "print( \"On his farm he had a cow, E-I-E-I-O!\" )\n",
        "print( \"With a moo here, and a moo moo there,\" )\n",
        "print( \"Here a moo, there a moo,\" )\n",
        "print( \"Everywhere a moo moo,\" )\n",
        "print( \"Old MacDonald had a farm, E-I-E-I-O!\" )"
      ]
    },
    {
      "cell_type": "code",
      "execution_count": 1,
      "metadata": {},
      "outputs": [
        {
          "name": "stdout",
          "output_type": "stream",
          "text": [
            "Old MacDonald had a farm, E-I-E-I-O!\n",
            "On his farm he had a cow, E-I-E-I-O!\n",
            "With a moo moo here, and a moo moo there,\n",
            "Here a moo, there a moo,\n",
            "Everywhere a moo moo,\n",
            "Old MacDonald had a farm, E-I-E-I-O!\n",
            "\n",
            "Old MacDonald had a farm, E-I-E-I-O!\n",
            "On his farm he had a pig, E-I-E-I-O!\n",
            "With a oink oink here, and a oink oink there,\n",
            "Here a oink, there a oink,\n",
            "Everywhere a oink oink,\n",
            "Old MacDonald had a farm, E-I-E-I-O!\n",
            "\n",
            "Old MacDonald had a farm, E-I-E-I-O!\n",
            "On his farm he had a duck, E-I-E-I-O!\n",
            "With a quack quack here, and a quack quack there,\n",
            "Here a quack, there a quack,\n",
            "Everywhere a quack quack,\n",
            "Old MacDonald had a farm, E-I-E-I-O!\n",
            "\n"
          ]
        }
      ],
      "source": [
        "input\n",
        "\n",
        "def oldMacDonaldsAnimals( animalName, animalSound ):\n",
        "    print( \"Old MacDonald had a farm, E-I-E-I-O!\" )\n",
        "    print( \"On his farm he had a \" + animalName + \", E-I-E-I-O!\" )\n",
        "    print( \"With a \" + animalSound + \" \" + animalSound + \\\n",
        "           \" here, and a \" + animalSound + \" \" + animalSound + \" there,\" )\n",
        "    print( \"Here a \" + animalSound + \", there a \" + animalSound + \",\" )\n",
        "    print( \"Everywhere a \" + animalSound + \" \" + animalSound + \",\" )\n",
        "    print( \"Old MacDonald had a farm, E-I-E-I-O!\" )\n",
        "    print()\n",
        "\n",
        "oldMacDonaldsAnimals( \"cow\", \"moo\" )\n",
        "oldMacDonaldsAnimals( \"pig\" , \"oink\" )\n",
        "oldMacDonaldsAnimals( \"duck\" , \"quack\" )\n"
      ]
    },
    {
      "cell_type": "markdown",
      "metadata": {},
      "source": [
        "## Scope\n",
        "\n",
        "Variable scope is a phrase used to refer to the idea that a variable may not always be available\n",
        "to every part of your code. Generally speaking, variables have a scope of the code block in\n",
        "which they are defined and any code blocks that are defined inside their code block. There\n",
        "are some exceptions to this but let’s look at the most common cases for now."
      ]
    },
    {
      "cell_type": "code",
      "execution_count": 2,
      "metadata": {},
      "outputs": [
        {
          "name": "stdout",
          "output_type": "stream",
          "text": [
            "4\n"
          ]
        }
      ],
      "source": [
        "x = 3\n",
        "if ( x == 3):\n",
        "    x = 4\n",
        "    print( x )"
      ]
    },
    {
      "cell_type": "markdown",
      "metadata": {},
      "source": [
        "It was only available from the time that the function myX\n",
        "started running until it exited. When myX exited the memory that was given to it to keep track\n",
        "of x was returned so that it can be used for something else."
      ]
    },
    {
      "cell_type": "code",
      "execution_count": 10,
      "metadata": {},
      "outputs": [
        {
          "ename": "NameError",
          "evalue": "name 'l' is not defined",
          "output_type": "error",
          "traceback": [
            "\u001b[0;31m---------------------------------------------------------------------------\u001b[0m",
            "\u001b[0;31mNameError\u001b[0m                                 Traceback (most recent call last)",
            "\u001b[0;32m/var/folders/m1/qh80w4dn7p75yknjlh5qgdjc0000gn/T/ipykernel_7467/3400139792.py\u001b[0m in \u001b[0;36m<module>\u001b[0;34m\u001b[0m\n\u001b[1;32m      4\u001b[0m \u001b[0;31m# main routine\u001b[0m\u001b[0;34m\u001b[0m\u001b[0;34m\u001b[0m\u001b[0m\n\u001b[1;32m      5\u001b[0m \u001b[0mmyX\u001b[0m\u001b[0;34m(\u001b[0m\u001b[0;34m)\u001b[0m\u001b[0;34m\u001b[0m\u001b[0;34m\u001b[0m\u001b[0m\n\u001b[0;32m----> 6\u001b[0;31m \u001b[0;32mif\u001b[0m \u001b[0ml\u001b[0m \u001b[0;34m==\u001b[0m \u001b[0;36m3\u001b[0m\u001b[0;34m:\u001b[0m\u001b[0;34m\u001b[0m\u001b[0;34m\u001b[0m\u001b[0m\n\u001b[0m\u001b[1;32m      7\u001b[0m     \u001b[0ml\u001b[0m \u001b[0;34m=\u001b[0m \u001b[0;36m4\u001b[0m\u001b[0;34m\u001b[0m\u001b[0;34m\u001b[0m\u001b[0m\n\u001b[1;32m      8\u001b[0m \u001b[0mprint\u001b[0m\u001b[0;34m(\u001b[0m \u001b[0ml\u001b[0m \u001b[0;34m)\u001b[0m\u001b[0;34m\u001b[0m\u001b[0;34m\u001b[0m\u001b[0m\n",
            "\u001b[0;31mNameError\u001b[0m: name 'l' is not defined"
          ]
        }
      ],
      "source": [
        "def myX():\n",
        "    l = 3\n",
        "    return\n",
        "# main routine\n",
        "myX()\n",
        "if l == 3:\n",
        "    l = 4\n",
        "print( l )"
      ]
    },
    {
      "cell_type": "code",
      "execution_count": 11,
      "metadata": {},
      "outputs": [
        {
          "name": "stdout",
          "output_type": "stream",
          "text": [
            "4 is even\n"
          ]
        }
      ],
      "source": [
        "x = 4\n",
        "y = 2\n",
        "\n",
        "if x % 2 == 1:\n",
        "    print(x, 'is odd')\n",
        "else:\n",
        "    print(x, 'is even')"
      ]
    },
    {
      "cell_type": "markdown",
      "metadata": {},
      "source": [
        "Create a Python module named inches2centimeters.py.\n",
        "\n",
        "Inside the module, implement a function inches_to_centimeters that takes one float parameter, inches, and returns the equivalent distance in centimeters. Use the conversion factor: 1 inch = 2.54 centimeters.\n",
        "\n",
        "In the same module, include a main block to perform the following steps:\n",
        "\n",
        "Prompt the user to enter a distance in inches (as a float) using the input function.\n",
        "Call the inches_to_centimeters function with the user-provided inches value.\n",
        "Display the result as \"{inches} inches is equal to {centimeters} centimeters.\" using formatted strings.\n",
        "Save the module and run it to test the conversion from inches to centimeters."
      ]
    },
    {
      "cell_type": "markdown",
      "metadata": {},
      "source": [
        "Problem Statement:\n",
        "You want to create a program that calculates a student's final grade projection based on their scores in labs, exams, and assignments, with different weightings. You also want to determine the letter grade associated with the result.\n",
        "\n",
        "Modular Approach:\n",
        "\n",
        "Input Module: Create a function to get scores for labs, exams, and assignments.\n",
        "\n",
        "Calculation Module: Design a function that calculates the weighted scores for each category.\n",
        "\n",
        "Grade Calculation Module: Create a function that calculates the final grade projection.\n",
        "\n",
        "Letter Grade Module: Write a function that determines the letter grade based on the final grade percentage.\n",
        "\n",
        "Display Module: Develop a function to display the student's projected grade and letter grade."
      ]
    },
    {
      "cell_type": "code",
      "execution_count": null,
      "metadata": {},
      "outputs": [],
      "source": [
        "# Input Module\n",
        "def get_scores():\n",
        "    lab_score = float(input(\"Enter your lab score (out of 100): \"))\n",
        "    exam_score = float(input(\"Enter your exam score (out of 100): \"))\n",
        "    assignment_score = float(input(\"Enter your assignment score (out of 100): \"))\n",
        "    return lab_score, exam_score, assignment_score\n",
        "\n",
        "# Calculation Module\n",
        "def calculate_weighted_scores(lab_score, exam_score, assignment_score):\n",
        "    lab_weight = 0.20\n",
        "    exam_weight = 0.70\n",
        "    assignment_weight = 0.10\n",
        "\n",
        "    lab_score_weighted = lab_score * lab_weight\n",
        "    exam_score_weighted = exam_score * exam_weight\n",
        "    assignment_score_weighted = assignment_score * assignment_weight\n",
        "\n",
        "    return lab_score_weighted, exam_score_weighted, assignment_score_weighted\n",
        "\n",
        "# Grade Calculation Module\n",
        "def calculate_final_grade(lab_score_weighted, exam_score_weighted, assignment_score_weighted):\n",
        "    final_grade = lab_score_weighted + exam_score_weighted + assignment_score_weighted\n",
        "    return final_grade\n",
        "\n",
        "# Letter Grade Module\n",
        "def determine_letter_grade(final_grade):\n",
        "    if final_grade >= 90:\n",
        "        return 'A'\n",
        "    elif final_grade >= 75:\n",
        "        return 'B'\n",
        "    elif final_grade >= 60:\n",
        "        return 'C'\n",
        "    elif final_grade >= 50:\n",
        "        return 'D'\n",
        "    else:\n",
        "        return 'F'\n",
        "\n",
        "# Display Module\n",
        "def display_final_grade(final_grade, letter_grade):\n",
        "    print(f\"Your final grade projection is {final_grade:.1f}\")\n",
        "    print(f\"Your letter grade is {letter_grade}\")\n",
        "\n",
        "# Main Program\n",
        "if __name__ == \"__main__\":\n",
        "    lab_score, exam_score, assignment_score = get_scores()\n",
        "    lab_score_weighted, exam_score_weighted, assignment_score_weighted = calculate_weighted_scores(\n",
        "        lab_score, exam_score, assignment_score)\n",
        "    final_grade = calculate_final_grade(lab_score_weighted, exam_score_weighted, assignment_score_weighted)\n",
        "    letter_grade = determine_letter_grade(final_grade)\n",
        "    display_final_grade(final_grade, letter_grade)\n"
      ]
    },
    {
      "cell_type": "markdown",
      "metadata": {},
      "source": []
    },
    {
      "cell_type": "markdown",
      "metadata": {},
      "source": [
        "### Validate month\n",
        "### Manufacturing process\n",
        "### Double value\n",
        "### Elseif/else to If statements\n",
        "### get name\n",
        "### get and print first/last name and school\n",
        "### min/max\n",
        "\n"
      ]
    },
    {
      "cell_type": "code",
      "execution_count": null,
      "metadata": {},
      "outputs": [],
      "source": [
        "### Manufacturing length\n",
        "Ideal = 100\n",
        "toll_5 = 5\n",
        "toll_10= 10\n",
        "\n",
        "fName = input( \"Enter first name: \" )\n",
        "lName = input( \"Enter last name: \" )\n",
        "\n",
        "if fName != \"Alfred\":\n",
        "    print( \"Not Alfred\" )\n",
        "elif lName != \"Neuman\":\n",
        "    print( \"Alfred but not Neuman\" )\n",
        "else:\n",
        "    print( \"Yes, Alfred Neuman\" )"
      ]
    },
    {
      "cell_type": "code",
      "execution_count": null,
      "metadata": {},
      "outputs": [],
      "source": [
        "# Program contains 5 bugs. Find them and fix them.\n",
        "# Don't validate the data, just assume the user enters two\n",
        "# floating point numbers. This program figures out which \n",
        "# number is larger and prints a statement to that effect.\n",
        "\n",
        "raw == input( \"Enter first real number: \" )\n",
        "numberOne = float( raw )\n",
        "\n",
        "raw = input \"Enter second real number: \" )\n",
        "numberTwo = flat( raw )\n",
        "\n",
        "# The max() and min() functions are in the python standard library.\n",
        "# At www.python.org, go to Docs, Library Reference, Builtin Functions\n",
        "# Read how the max() and min() functions work to fix the next two lines\n",
        "# of code.\n",
        "maximum = max()\n",
        "minimum = min()\n",
        "\n",
        "# The next line is bug free, leave it alone.\n",
        "print( \"number {0:0.3f} is larger than {1:0.3f}\".format( maximum, minimum ) )\n"
      ]
    },
    {
      "cell_type": "code",
      "execution_count": 9,
      "metadata": {},
      "outputs": [
        {
          "name": "stdout",
          "output_type": "stream",
          "text": [
            "7\n"
          ]
        }
      ],
      "source": [
        "def layerOne( number ):\n",
        "    # Input: an integer\n",
        "    # Return value: integer result of manipulating this data\n",
        "\n",
        "    return layerTwo(number)\n",
        "\n",
        "def layerTwo( number ):\n",
        "    # Input: an integer\n",
        "    # Return value: integer result of manipulating this data\n",
        "\n",
        "    return layerThree( number + 1 )\n",
        "\n",
        "def layerThree( number ):\n",
        "    # Input: an integer\n",
        "    # Return value: integer result of manipulating this data\n",
        "\n",
        "    return number + 1\n",
        "\n",
        "# Start of main program\n",
        "x = 5\n",
        "print( layerOne( x ) )\n"
      ]
    },
    {
      "cell_type": "code",
      "execution_count": null,
      "metadata": {},
      "outputs": [],
      "source": [
        "# Ideal Manufacturing Length\n",
        "IML = 100\n",
        "\n",
        "# 5% tolerance\n",
        "TOLL_5 = 5\n",
        "\n",
        "# 10% tolerance\n",
        "TOLL_10 = 10\n",
        "\n",
        "# measured length of the manufactured part\n",
        "# length = 103\n",
        "length = float( input( \"Enter the part length: \" ) )\n",
        "\n",
        "if length == IML:\n",
        "    print( \"Part is exact\" )\n",
        "    \n",
        "elif abs( IML - length ) <= TOLL_5:\n",
        "    print( \"Part is within 5% tolerance\" )\n",
        "    \n",
        "elif abs( IML - length ) <= TOLL_10:\n",
        "    print( \"Part is within 10% tolerance\" )\n",
        "    \n",
        "else:\n",
        "    print( \"Part is not okay\" )\n",
        "\n",
        "print( \"Testing complete\" )"
      ]
    },
    {
      "cell_type": "markdown",
      "metadata": {},
      "source": [
        "### Test 2 (Wed+Thurs sections): Novemeber 9th, 2023 at 5pm during regular class time\n",
        "### Test 2 (Tues+Fri sections): Novemeber 10th, 2023 at 9 am during regular class time\n",
        "\n",
        "### Assignment 3 due Nov 17\n",
        "\n",
        "Test 2 covers any information presented for test 1, and also any information presented in the modules \"Modular Programming\", \"Boolean and Conditional Logic\", and \"Logic with Repetition\" including any material presented in the exercises and the readings.\n",
        "\n",
        "The test will consist of a number of short questions, similar to quiz questions, and will also have short and long answer questions that resemble the assigned exercises. \n",
        "\n",
        "Short answer questions may involve:\n",
        "\n",
        "creating modules in python to shorten given code\n",
        "tracing problems with modules\n",
        "given a design, convert it into Python code\n",
        "write short if statements\n",
        "write if statements that involve compound logic\n",
        "convert if statements with compound Boolean expressions into an equivalent nested structure\n",
        "convert a nested if statement structure into a non-nested structure that uses compound Boolean expressions\n",
        "trace flow charts that contain conditional logic\n",
        "trace flow charts that contain logic with repetitions\n",
        "create code from flow charts\n",
        "\n",
        "\n",
        "## **Examination Topics**\n",
        "\n",
        "- **Multiple Choice / Multiple Answers** (related to Steve’s videos): 5 questions\n",
        "- **Smaller Module Trace**: Python code variable trace: 5 marks\n",
        "- **Larger Module Trace**: Detailed Python code variable trace: 10 marks\n",
        "- **Write a Module**: Given a problem, write the Python code: 10 marks\n",
        "- **Short Answers** (Boolean conditions): 2 questions, 4 marks\n",
        "- **Short Answers** (Boolean compound conditions): 2 questions, 6 marks\n",
        "- **Flowchart Trace**: Contains `Ifs` and/or `WHILEs`, do a variable trace: 10 marks\n",
        "- **Write Python IF statements**: May include `IF`, `IF-ELSE`, `IF-ELIF-ELSE`, compound conditions: 20 marks\n",
        "- **Flowchart Trace**: Variable trace of a flowchart with conditions and loops: 15 marks\n",
        "- **Design a Solution**: From pseudocode to Python code, involves pseudocode, variable trace, implementation: 15 marks\n",
        "\n",
        "**Total Marks: 100**\n",
        "\n",
        "---\n",
        "\n"
      ]
    },
    {
      "cell_type": "code",
      "execution_count": null,
      "metadata": {},
      "outputs": [],
      "source": [
        "# Creating modules in Python to shorten given code:\n",
        "# -------------------------------------\n",
        "# my_module.py\n",
        "def greet(name):\n",
        "    return f\"Hello, {name}!\"\n",
        "\n",
        "# main.py\n",
        "from my_module import greet\n",
        "print(greet(\"Alice\"))\n",
        "\n",
        "# Given a design, convert it into Python code:\n",
        "# -------------------------------------\n",
        "# Design: A program that adds two numbers.\n",
        "def add(a, b):\n",
        "    return a + b\n",
        "\n",
        "result = add(3, 4)\n",
        "print(result)\n",
        "\n",
        "# Write if statements that involve compound logic:\n",
        "# -------------------------------------\n",
        "age, has_permission = 17, True\n",
        "if age < 18 and not has_permission:\n",
        "    print(\"Access denied\")\n",
        "\n",
        "# Convert if statements with compound Boolean expressions into an equivalent nested structure:\n",
        "# -------------------------------------\n",
        "# Compound:\n",
        "if age < 18 and not has_permission:\n",
        "    print(\"Access denied\")\n",
        "    \n",
        "# Nested:\n",
        "if age < 18:\n",
        "    if not has_permission:\n",
        "        print(\"Access denied\")\n",
        "\n",
        "# Convert a nested if statement structure into a non-nested structure that uses compound Boolean expressions:\n",
        "# -------------------------------------\n",
        "# Nested:\n",
        "if age < 18:\n",
        "    if not has_permission:\n",
        "        print(\"Access denied\")\n",
        "\n",
        "# Compound:\n",
        "if age < 18 and not has_permission:\n",
        "    print(\"Access denied\")\n",
        "\n",
        "# Trace flow charts that contain conditional logic:\n",
        "# -------------------------------------\n",
        "# Flowchart: \n",
        "# Start -> Is age < 18? -> Yes -> Print \"Minor\" -> End\n",
        "#                          -> No  -> Print \"Adult\" -> End\n",
        "\n",
        "x: 1, 2, 45, 5, 6\n",
        "y: 0\n",
        "\n",
        "# Code:\n",
        "if age < 18:\n",
        "    print(\"Minor\")\n",
        "else:\n",
        "    print(\"Adult\")\n",
        "\n",
        "# Trace flow charts that contain logic with repetitions:\n",
        "# -------------------------------------\n",
        "# Flowchart example:\n",
        "# Start -> Repeat 5 times -> Print \"Hello\" -> End\n",
        "\n",
        "# Code:\n",
        "for _ in range(5):\n",
        "    print(\"Hello\")"
      ]
    },
    {
      "cell_type": "code",
      "execution_count": 12,
      "metadata": {},
      "outputs": [
        {
          "name": "stdout",
          "output_type": "stream",
          "text": [
            "Program has exited.\n"
          ]
        }
      ],
      "source": [
        "while True:\n",
        "    user_input = input(\"Enter something (or type 'quit' to exit): \")\n",
        "    if user_input.lower() == 'quit':\n",
        "        break\n",
        "print(\"Program has exited.\")\n"
      ]
    },
    {
      "cell_type": "markdown",
      "metadata": {},
      "source": [
        "\n",
        "# Boolean and Conditional Logic\n",
        "\n",
        "Logical operators are used to perform logical operations on boolean values.\n",
        "\n",
        "| a      | b      | a and b | a or b | a xor b (exclusive or) | not a  | not b  | not a and b  | not a or b  |\n",
        "|--------|--------|---------|--------|------------------------|--------|--------|--------------|-------------|\n",
        "| True   | True   | True    | True   | False                  | False  | False  |     False    |    True     |\n",
        "| True   | False  | False   | True   | True                   | False  | True   |     False    |    True     |\n",
        "| False  | True   | False   | True   | True                   | True   | False  |     False    |    True     |\n",
        "| False  | False  | False   | False  | False                  | True   | True   |     True     |    False    |\n"
      ]
    },
    {
      "cell_type": "markdown",
      "metadata": {},
      "source": [
        "| A | B | \\(A ∧ B\\) | \\(¬(A ∧ B)\\) | \\(¬A\\) | \\(¬B\\) | \\(¬A ∨ ¬B\\) | \\(A ∨ B\\) | \\(¬(A ∨ B)\\) | \\(¬A ∧ ¬B\\) |\n",
        "|---|---|---------|------------|------|------|-----------|---------|------------|------------|\n",
        "| T | T |   T     |      F     |  F   |  F   |     F     |   T     |      F     |      F     |\n",
        "| T | F |   F     |      T     |  F   |  T   |     T     |   T     |      F     |      F     |\n",
        "| F | T |   F     |      T     |  T   |  F   |     T     |   T     |      F     |      F     |\n",
        "| F | F |   F     |      T     |  T   |  T   |     T     |   F     |      T     |      T     |\n"
      ]
    },
    {
      "cell_type": "code",
      "execution_count": 4,
      "metadata": {},
      "outputs": [
        {
          "data": {
            "text/plain": [
              "True"
            ]
          },
          "execution_count": 4,
          "metadata": {},
          "output_type": "execute_result"
        }
      ],
      "source": [
        "a = True\n",
        "b = False\n",
        "\n",
        "not a or not b"
      ]
    },
    {
      "cell_type": "markdown",
      "metadata": {},
      "source": [
        "# De Morgan's Laws Simplified\n",
        "\n",
        "Alright, let's simplify De Morgan's laws using an everyday analogy:\n",
        "\n",
        "Imagine you have two tasks to do today: **Cooking** and **Cleaning**.\n",
        "\n",
        "## De Morgan's First Law:\n",
        "\"If you're not doing both cooking and cleaning, then you're either not cooking or you're not cleaning.\"  \n",
        "\n",
        "In words:\n",
        "The NOT of (a AND b) is the same as (NOT a) OR (NOT b).\n",
        "\n",
        "## De Morgan's Second Law:\n",
        "\"If you're not doing cooking or cleaning, then you're neither cooking nor cleaning.\"\n",
        "\n",
        "In words:\n",
        "The NOT of (a OR b) is the same as (NOT a) AND (NOT b).\n",
        "\n",
        "### In Essence:\n",
        "1. If you're avoiding both tasks, then you're definitely avoiding at least one of them.\n",
        "2. If you're doing neither of the tasks, then you're clearly not doing both. \n",
        "\n",
        "\n"
      ]
    },
    {
      "cell_type": "markdown",
      "metadata": {},
      "source": [
        "## Practice Problems\n",
        "\n",
        "1. If `y = 10`, what is the value of `result` when `result = y > 3 * 2`?\n",
        "2. Given `z = 15`, determine the value of `result` when `result = z % 5 == 0`.\n",
        "3. If `a = 8` and `b = 4`, what is the value of `result` when `result = a / b == 2`?\n",
        "\n",
        "\n",
        "\n"
      ]
    },
    {
      "cell_type": "markdown",
      "metadata": {},
      "source": [
        "\n",
        "### DeMorgan's Law\n",
        "\n",
        "DeMorgan's Law provides essential rules for simplifying and manipulating logical expressions. The law consists of two primary forms:\n",
        "\n",
        "#### 1. Negation of Conjunction:\n",
        "- **Formula:**  \n",
        "  `¬(A ∧ B) ≡ (¬A) ∨ (¬B)`\n",
        "- **Description:**  \n",
        "  Not (A and B) is equivalent to (Not A) or (Not B)\n",
        "\n",
        "#### 2. Negation of Disjunction:\n",
        "- **Formula:**  \n",
        "  `¬(A ∨ B) ≡ (¬A) ∧ (¬B)`\n",
        "- **Description:**  \n",
        "  Not (A or B) is equivalent to (Not A) and (Not B)\n",
        "\n",
        "---\n",
        "\n",
        "#### Examples:\n",
        "\n",
        "1. **Statements:**  \n",
        "   Let A be \"It is raining\" and B be \"It is cold\".\n",
        "   - The negation of the conjunction translates to \"It is not raining or it is not cold\".\n",
        "   - The negation of the disjunction translates to \"It is not raining and it is not cold\".\n",
        "\n",
        "2. **Programming Context:**  \n",
        "   Instead of:\n",
        "   ```python\n",
        "   if not (x > 10 and y < 5):\n",
        "   ```\n",
        "   Using DeMorgan's Law:\n",
        "   ```python\n",
        "   if x <= 10 or y >= 5:\n",
        "   ```\n",
        "\n",
        "   Similarly:\n",
        "   ```python\n",
        "   if not (x > 10 or y < 5):\n",
        "   ```\n",
        "   Can be rephrased as:\n",
        "   ```python\n",
        "   if x <= 10 and y >= 5:\n",
        "   ```\n",
        "\n",
        "---\n",
        "\n",
        "DeMorgan's Law is used extensively in computer science, mathematics, and digital electronics to simplify complex logical expressions."
      ]
    },
    {
      "cell_type": "markdown",
      "metadata": {},
      "source": [
        "Prime Number: A prime number is a whole number greater than 1 that cannot be exactly divided by any other number except 1 and itself.\n",
        "\n",
        "Example 1: Consider the number 2. It cannot be divided evenly by any number other than 1 and 2. So, 2 is a prime number.\n",
        "\n",
        "Example 2: Look at the number 4. While you might think it's a prime because it's even, it can be divided by 1, 2, and 4. Since there's a number other than 1 and 4 that divides it (which is 2), 4 is not a prime number.\n",
        "\n",
        "Example 3: The number 7 is a prime. You can't divide 7 evenly by any whole number (2, 3, 4, 5, 6) between 1 and 7.\n",
        "\n",
        "\n",
        "E.g., Signal processing, Biology"
      ]
    },
    {
      "cell_type": "markdown",
      "metadata": {},
      "source": [
        "Create a program that uses loops and if statements to determine if a number is a prime number."
      ]
    },
    {
      "cell_type": "markdown",
      "metadata": {},
      "source": [
        "e.g., 10, 12, 22, 15, 21\n",
        "prime = 2, \n",
        "\n",
        "take every number up to chosen_number, divide into 11, and if we get integer then it is not prime."
      ]
    },
    {
      "cell_type": "code",
      "execution_count": 13,
      "metadata": {},
      "outputs": [
        {
          "name": "stdout",
          "output_type": "stream",
          "text": [
            "11 is a prime number.\n"
          ]
        }
      ],
      "source": [
        "# Function to check if a number is prime\n",
        "def is_prime(number):\n",
        "    # Check for numbers less than 2\n",
        "    if number < 2:\n",
        "        return False\n",
        "    \n",
        "    # Check for divisibility from 2 to the number itself (excluding 1 and the number)\n",
        "    for i in range(2, number):\n",
        "        if number % i == 0:\n",
        "            return False\n",
        "    \n",
        "    return True\n",
        "\n",
        "# Input from the user\n",
        "try:\n",
        "    num = int(input(\"Enter a number: \"))\n",
        "    \n",
        "    # Check if the number is prime\n",
        "    if is_prime(num):\n",
        "        print(f\"{num} is a prime number.\")\n",
        "    else:\n",
        "        print(f\"{num} is not a prime number.\")\n",
        "except ValueError:\n",
        "    print(\"Please enter a valid integer.\")\n"
      ]
    },
    {
      "cell_type": "code",
      "execution_count": 15,
      "metadata": {},
      "outputs": [
        {
          "name": "stdout",
          "output_type": "stream",
          "text": [
            "[2, 3, 5, 7, 11, 13, 17, 19, 23, 29, 31, 37, 41, 43, 47, 53, 59, 61, 67, 71, 73, 79, 83, 89, 97, 101, 103, 107, 109, 113, 127, 131, 137, 139, 149, 151, 157, 163, 167, 173, 179, 181, 191, 193, 197, 199, 211, 223, 227, 229, 233, 239, 241, 251, 257, 263, 269, 271, 277, 281, 283, 293, 307, 311, 313, 317, 331, 337, 347, 349, 353, 359, 367, 373, 379, 383, 389, 397, 401, 409, 419, 421, 431, 433, 439, 443, 449, 457, 461, 463, 467, 479, 487, 491, 499]\n"
          ]
        },
        {
          "data": {
            "text/plain": [
              "[2,\n",
              " 3,\n",
              " 5,\n",
              " 7,\n",
              " 11,\n",
              " 13,\n",
              " 17,\n",
              " 19,\n",
              " 23,\n",
              " 29,\n",
              " 31,\n",
              " 37,\n",
              " 41,\n",
              " 43,\n",
              " 47,\n",
              " 53,\n",
              " 59,\n",
              " 61,\n",
              " 67,\n",
              " 71,\n",
              " 73,\n",
              " 79,\n",
              " 83,\n",
              " 89,\n",
              " 97,\n",
              " 101,\n",
              " 103,\n",
              " 107,\n",
              " 109,\n",
              " 113,\n",
              " 127,\n",
              " 131,\n",
              " 137,\n",
              " 139,\n",
              " 149,\n",
              " 151,\n",
              " 157,\n",
              " 163,\n",
              " 167,\n",
              " 173,\n",
              " 179,\n",
              " 181,\n",
              " 191,\n",
              " 193,\n",
              " 197,\n",
              " 199,\n",
              " 211,\n",
              " 223,\n",
              " 227,\n",
              " 229,\n",
              " 233,\n",
              " 239,\n",
              " 241,\n",
              " 251,\n",
              " 257,\n",
              " 263,\n",
              " 269,\n",
              " 271,\n",
              " 277,\n",
              " 281,\n",
              " 283,\n",
              " 293,\n",
              " 307,\n",
              " 311,\n",
              " 313,\n",
              " 317,\n",
              " 331,\n",
              " 337,\n",
              " 347,\n",
              " 349,\n",
              " 353,\n",
              " 359,\n",
              " 367,\n",
              " 373,\n",
              " 379,\n",
              " 383,\n",
              " 389,\n",
              " 397,\n",
              " 401,\n",
              " 409,\n",
              " 419,\n",
              " 421,\n",
              " 431,\n",
              " 433,\n",
              " 439,\n",
              " 443,\n",
              " 449,\n",
              " 457,\n",
              " 461,\n",
              " 463,\n",
              " 467,\n",
              " 479,\n",
              " 487,\n",
              " 491,\n",
              " 499]"
            ]
          },
          "execution_count": 15,
          "metadata": {},
          "output_type": "execute_result"
        }
      ],
      "source": [
        "def primes_in_range(start, end):\n",
        "    primes = []\n",
        "\n",
        "    for num in range(max(2, start), end+1):\n",
        "        is_prime = True\n",
        "        for divisor in range(2, num):\n",
        "            if num % divisor == 0:\n",
        "                is_prime = False\n",
        "                break\n",
        "\n",
        "        if is_prime:\n",
        "            primes.append(num)\n",
        "    \n",
        "    print(primes)\n",
        "    return primes\n",
        "\n",
        "primes_in_range(2,500)"
      ]
    },
    {
      "attachments": {
        "image.png": {
          "image/png": "[encoded data removed]"
        }
      },
      "cell_type": "markdown",
      "metadata": {},
      "source": [
        "![image.png](attachment:image.png)"
      ]
    },
    {
      "cell_type": "markdown",
      "metadata": {},
      "source": [
        "Let's start with:\n",
        "\n",
        "x = 2\n",
        "y = 2\n",
        "\n",
        "We will trace the flowchart using these initial values.\n",
        "\n",
        "1. Start.\n",
        "2. Initialize `count` to 0 (though `count` doesn't seem to be used in this flowchart).\n",
        "3. Assume `x` is positive.\n",
        "4. Set the value of `x` to 2.\n",
        "5. Assume `y` is positive.\n",
        "6. Set the value of `y` to 2.\n",
        "\n",
        "Enter the loop:\n",
        "\n",
        "7. Check if `x * y < 100`. (2 * 2 = 4, which is less than 100. True)\n",
        "   - If True:\n",
        "     8. Check if `x` is even. (x = 2, which is even. True)\n",
        "        - If True:\n",
        "          9. Increment `x` by 1. (x becomes 3)\n",
        "          10. Double the value of `y`. (y becomes 4)\n",
        "          11. Go back to step 7.\n",
        "7. Check if `x * y < 100`. (3 * 4 = 12, which is less than 100. True)\n",
        "     8. Check if `x` is even. (x = 3, which is odd. False)\n",
        "        - If False:\n",
        "          12. Increment `x` by 1. (x becomes 4)\n",
        "          13. Go back to step 7.\n",
        "7. Check if `x * y < 100`. (4 * 4 = 16, which is less than 100. True)\n",
        "     8. Check if `x` is even. (x = 4, which is even. True)\n",
        "        - If True:\n",
        "          9. Increment `x` by 1. (x becomes 5)\n",
        "          10. Double the value of `y`. (y becomes 8)\n",
        "          11. Go back to step 7.\n",
        "7. Check if `x * y < 100`. (5 * 8 = 40, which is less than 100. True)\n",
        "     8. Check if `x` is even. (x = 5, which is odd. False)\n",
        "        - If False:\n",
        "          12. Increment `x` by 1. (x becomes 6)\n",
        "          13. Go back to step 7.\n",
        "7. Check if `x * y < 100`. (6 * 8 = 48, which is less than 100. True)\n",
        "     8. Check if `x` is even. (x = 6, which is even. True)\n",
        "        - If True:\n",
        "          9. Increment `x` by 1. (x becomes 7)\n",
        "          10. Double the value of `y`. (y becomes 16)\n",
        "          11. Go back to step 7.\n",
        "7. Check if `x * y < 100`. (7 * 16 = 112, which is NOT less than 100. False)\n",
        "\n",
        "Now, based on this condition, we exit the loop and reach the \"END\".\n",
        "\n",
        "So, for x = 2 and y = 2 initially, by the time we exit the loop:\n",
        "\n",
        "x = 7\n",
        "y = 16\n",
        "\n",
        "This is the final trace for x and y based on the flowchart."
      ]
    },
    {
      "cell_type": "markdown",
      "metadata": {},
      "source": [
        "**Variable Trace:**\n",
        "Count = 0 \n",
        "| x | y  |\n",
        "|---|----|\n",
        "| 2 | 2  |\n",
        "| 3 | 4  |\n",
        "| 4 | 8  |\n",
        "| 5 | 16 |\n",
        "| 6 | -  | \n",
        "\n",
        "The loop exits when the product of `x * y` exceeds 100.\n"
      ]
    },
    {
      "attachments": {
        "image.png": {
          "image/png": "[encoded data removed]"
        }
      },
      "cell_type": "markdown",
      "metadata": {},
      "source": [
        "![image.png](attachment:image.png)"
      ]
    },
    {
      "cell_type": "code",
      "execution_count": null,
      "metadata": {},
      "outputs": [],
      "source": [
        "# INPUT a number\n",
        "number = int( input( \"Please enter a number: \" ) )\n",
        "\n",
        "# INITIALIZE sum TO 0\n",
        "sum = 0\n",
        "\n",
        "# INITIALIZE counter TO 0\n",
        "counter = 0\n",
        "\n",
        "# LOOP WHILE counter < number \n",
        "while counter < number:\n",
        "\n",
        "    # INCREMENT counter\n",
        "    counter += 1\n",
        "\n",
        "    # ACCUMULATE sum BY number - counter\n",
        "    sum += number - counter\n",
        "\n",
        "# DISPLAY sum\n",
        "print( \"The value of the sum is\", sum )\n"
      ]
    },
    {
      "cell_type": "markdown",
      "metadata": {},
      "source": [
        "Create a program called “repeatIt.py”. Ask the user to input 2 numbers. You may assume the user will enter numbers. The first number must be between 5 and 15 inclusive. If the number is outside that range don’t ask for the second number, skip the second input and repeat the first input until the user enters a number in that range. You may assume the second number is a positive number.\n",
        "Once the user enters two valid numbers, multiply them together, take modulo 60 of the result, and output a string that is that many letters long."
      ]
    },
    {
      "cell_type": "code",
      "execution_count": 9,
      "metadata": {},
      "outputs": [],
      "source": [
        "def main():\n",
        "    # Continuously ask for the first number until it's in the range [5, 15] inclusive\n",
        "    while True:\n",
        "        first_number = int(input(\"Enter the first number (between 5 and 15 inclusive): \"))\n",
        "        if 5 <= first_number <= 15:\n",
        "            break\n",
        "        print(\"The number must be between 5 and 15 inclusive. Try again.\")\n",
        "\n",
        "    # Ask for the second number (assuming it's positive)\n",
        "    second_number = int(input(\"Enter the second number (positive number): \"))\n",
        "\n",
        "    # Calculate the result\n",
        "    result = (first_number * second_number) % 60\n",
        "\n",
        "    # Output a string of the length 'result'\n",
        "    output_string = 'A' * result\n",
        "    print(f\"Output string of length {result}:\")\n",
        "    print(output_string)"
      ]
    },
    {
      "cell_type": "markdown",
      "metadata": {},
      "source": [
        "Imagine a movie theater where a new rule is applied for social distancing:\n",
        "\n",
        "Movie-goers must sit at least 4 seats apart.\n",
        "Movie-goers cannot sit next to someone they came with to ensure a random distribution and better distancing.\n",
        "Let's use the variables seatsApart to represent the number of seats between two movie-goers and cameTogether as a Boolean to represent if the two movie-goers came to the theater together."
      ]
    },
    {
      "cell_type": "code",
      "execution_count": null,
      "metadata": {},
      "outputs": [],
      "source": [
        "# Assuming seatsApart and cameTogether are already defined\n",
        "\n",
        "if seatsApart >= 4 and not cameTogether:\n",
        "    print(\"You can sit here.\")\n",
        "else:\n",
        "    print(\"Please find another seat.\")\n"
      ]
    },
    {
      "cell_type": "markdown",
      "metadata": {},
      "source": [
        "Imagine a fruit seller has a rule for pricing based on the weight of the fruit:\n",
        "\n",
        "If the fruit is too light (negative weight, which is an error), the seller will assume they made an error and will double the weight to correct it.\n",
        "If the fruit is of standard weight (positive weight), the seller gives a discount and sells half the weight for the same price.\n",
        "If the scale reads zero (which indicates the fruit might not have been placed properly), the seller will add an additional 3 grams, assuming it might be a very light fruit."
      ]
    },
    {
      "cell_type": "code",
      "execution_count": null,
      "metadata": {},
      "outputs": [],
      "source": [
        "# Assuming weight is the variable that holds the weight of the fruit\n",
        "\n",
        "if weight < 0:\n",
        "    weight = weight * 2\n",
        "    print(f\"The fruit seemed too light (probably an error), so I doubled the weight, now it is {weight} grams.\")\n",
        "elif weight > 0:\n",
        "    weight = weight / 2\n",
        "    print(f\"The fruit is of standard weight, so you'll only pay for half the weight, which is {weight} grams.\")\n",
        "else:\n",
        "    weight = weight + 3\n",
        "    print(f\"The scale read zero, so I assume it's a very light fruit. I added 3 grams to it, now it is {weight} grams.\")\n"
      ]
    },
    {
      "cell_type": "markdown",
      "metadata": {},
      "source": [
        "### Test 2 (This Thursday/Friday) + Assignment 2 (Nov 17)\n",
        "### Test 1/Assignment 1/2 Overview\n",
        "### Pop quiz\n",
        "### Addressing questions"
      ]
    },
    {
      "cell_type": "code",
      "execution_count": null,
      "metadata": {},
      "outputs": [],
      "source": [
        "# Over 10 errors below\n",
        "def calculate_area(length, width):\n",
        "    return lenght * width\n",
        "\n",
        "area = calculate_area(10, 5)\n",
        "print(\"The area is:\", are)\n",
        "\n",
        "if area < 20\n",
        "    print(\"Small area.\")\n",
        "else if area > 50:\n",
        "    print(\"Large area.\")\n",
        "else:\n",
        "    print(\"Medium area.\")\n",
        "\n",
        "for i in range(3, 5):\n",
        "print(\"Number:\", i)\n",
        "\n",
        "numbers = [1, 2, 3, 4, 5]\n",
        "print(numbers[5])\n"
      ]
    },
    {
      "cell_type": "code",
      "execution_count": 6,
      "metadata": {},
      "outputs": [
        {
          "name": "stdout",
          "output_type": "stream",
          "text": [
            "5\n"
          ]
        }
      ],
      "source": [
        "from utils import add\n",
        "\n",
        "print(add(2,3))"
      ]
    },
    {
      "cell_type": "code",
      "execution_count": 3,
      "metadata": {},
      "outputs": [],
      "source": [
        "import math\n",
        "\n",
        "# Now you can use functions of the math module\n",
        "result = math.sqrt(25)  # This will return 5.0\n"
      ]
    },
    {
      "cell_type": "code",
      "execution_count": null,
      "metadata": {},
      "outputs": [],
      "source": [
        "import math as m\n",
        "\n",
        "# Use the alias to access functions\n",
        "result = m.sqrt(36)  # This will return 6.0\n"
      ]
    },
    {
      "cell_type": "code",
      "execution_count": 1,
      "metadata": {},
      "outputs": [],
      "source": [
        "## Imports\n",
        "\n",
        "from math import sqrt\n",
        "\n",
        "# Directly use the function without module name prefix\n",
        "result = sqrt(49)  # This will return 7.0"
      ]
    },
    {
      "cell_type": "code",
      "execution_count": 2,
      "metadata": {},
      "outputs": [],
      "source": [
        "from math import *\n",
        "\n",
        "# Now all functions from math can be accessed directly\n",
        "result = sqrt(64)  # This will return 8.0\n"
      ]
    },
    {
      "cell_type": "code",
      "execution_count": 7,
      "metadata": {},
      "outputs": [
        {
          "name": "stdout",
          "output_type": "stream",
          "text": [
            "What is the main benefit of reusable code?\n",
            "A) Faster execution\n",
            "B) Reduced memory usage\n",
            "C) Easier to share and maintain\n",
            "D) More complex code\n",
            "Correct!\n",
            "\n",
            "What does every function return in Python?\n",
            "A) An integer\n",
            "B) A boolean value\n",
            "C) Some kind of value\n",
            "D) A string\n",
            "Correct!\n",
            "\n",
            "What are arguments in a function?\n",
            "A) The names specified in the function definition\n",
            "B) Values provided to fulfill the role of parameters\n",
            "C) The output of the function\n",
            "D) Error messages\n",
            "Correct!\n",
            "\n",
            "What is an operator in Python?\n",
            "A) A way to perform input and output operations\n",
            "B) A symbolic representation of a function\n",
            "C) A type of string manipulation\n",
            "D) A debugging tool\n",
            "Correct!\n",
            "\n",
            "Why is creating modules beneficial?\n",
            "A) They extend the execution time\n",
            "B) They make code less readable\n",
            "C) They improve maintainability\n",
            "D) They increase memory usage\n",
            "Incorrect. The correct answer was C\n",
            "\n",
            "Your final score is: 4 out of 5\n"
          ]
        }
      ],
      "source": [
        "# Define the questions and answer choices\n",
        "questions = [\n",
        "    {\n",
        "        \"question\": \"What is the main benefit of reusable code?\",\n",
        "        \"options\": [\"A) Faster execution\", \"B) Reduced memory usage\", \"C) Easier to share and maintain\", \"D) More complex code\"],\n",
        "        \"answer\": \"C\"\n",
        "    },\n",
        "    {\n",
        "        \"question\": \"What does every function return in Python?\",\n",
        "        \"options\": [\"A) An integer\", \"B) A boolean value\", \"C) Some kind of value\", \"D) A string\"],\n",
        "        \"answer\": \"C\"\n",
        "    },\n",
        "    {\n",
        "        \"question\": \"What are arguments in a function?\",\n",
        "        \"options\": [\"A) The names specified in the function definition\", \"B) Values provided to fulfill the role of parameters\", \"C) The output of the function\", \"D) Error messages\"],\n",
        "        \"answer\": \"B\"\n",
        "    },\n",
        "    {\n",
        "        \"question\": \"What is an operator in Python?\",\n",
        "        \"options\": [\"A) A way to perform input and output operations\", \"B) A symbolic representation of a function\", \"C) A type of string manipulation\", \"D) A debugging tool\"],\n",
        "        \"answer\": \"B\"\n",
        "    },\n",
        "    {\n",
        "        \"question\": \"Why is creating modules beneficial?\",\n",
        "        \"options\": [\"A) They extend the execution time\", \"B) They make code less readable\", \"C) They improve maintainability\", \"D) They increase memory usage\"],\n",
        "        \"answer\": \"C\"\n",
        "    }\n",
        "]\n",
        "\n",
        "score = 0\n",
        "\n",
        "# Function to display a question and get the answer\n",
        "def ask_question(question):\n",
        "    print(question[\"question\"])\n",
        "    for option in question[\"options\"]:\n",
        "        print(option)\n",
        "    user_answer = input(\"Enter the option (A, B, C, D): \").strip().upper()\n",
        "    return user_answer == question[\"answer\"]\n",
        "\n",
        "# Main loop to iterate over questions\n",
        "for question in questions:\n",
        "    if ask_question(question):\n",
        "        print(\"Correct!\")\n",
        "        score += 1\n",
        "    else:\n",
        "        print(\"Incorrect. The correct answer was\", question[\"answer\"])\n",
        "    print()\n",
        "\n",
        "# Final score\n",
        "print(\"Your final score is:\", score, \"out of\", len(questions))\n"
      ]
    },
    {
      "cell_type": "markdown",
      "metadata": {},
      "source": [
        "## De Morgan's Laws - Simple Examples\n",
        "\n",
        "### Law 1: `not( a or b ) = not( a ) and not( b )`\n",
        "\n",
        "**Analogy: No pets allowed.**\n",
        "\n",
        "- `a or b`: Either cats or dogs are allowed.\n",
        "- `not( a or b )`: Neither cats nor dogs are allowed — no pets allowed.\n",
        "- `not( a ) and not( b )`: No cats and no dogs — again, no pets allowed.\n",
        "\n",
        "Both expressions result in **no pets being allowed**.\n",
        "\n",
        "### Law 2: `not( a and b ) = not( a ) or not( b )`\n",
        "\n",
        "**Analogy: Keep the door open.**\n",
        "\n",
        "- `a and b`: The door is closed and locked.\n",
        "- `not( a and b )`: The door is not both closed and locked, implying at least one condition isn't met — the door is at least partially accessible.\n",
        "- `not( a ) or not( b )`: The door is either not closed or not locked, which also means it is not fully secured.\n",
        "\n",
        "Both expressions ensure that **the door isn't both closed and locked**.\n"
      ]
    },
    {
      "cell_type": "markdown",
      "metadata": {},
      "source": [
        "## more practice problems\n",
        "\n",
        "A student can join the school's advanced study group if they have an average grade of at least 85 and they have no unexcused absences. The average grade is stored in a variable called average_grade, and whether the student has any unexcused absences is stored in a Boolean variable called has_unexcused_absences."
      ]
    },
    {
      "cell_type": "markdown",
      "metadata": {},
      "source": [
        "# Variables (examples)\n",
        "average_grade = 90  # The student's average grade\n",
        "has_unexcused_absences = False  # Whether the student has any unexcused absences\n",
        "\n",
        "# IF statement implementing the logic\n",
        "if average_grade >= 85 and not has_unexcused_absences:\n",
        "    print(\"The student can join the advanced study group.\")\n",
        "else:\n",
        "    print(\"The student cannot join the advanced study group.\")\n"
      ]
    },
    {
      "cell_type": "markdown",
      "metadata": {},
      "source": [
        "## When to Use Loops in Python\n",
        "\n",
        "### For Loops\n",
        "- **Known Iterations**: Use when you know the exact number of iterations in advance.\n",
        "- **Iterating Over Sequences**: Ideal for going through elements in a list, characters in a string, etc.\n",
        "- **Counter-Controlled Repetition**: When each iteration can be handled by the loop itself.\n",
        "\n",
        "### While Loops\n",
        "- **Unknown Iterations**: Use when the number of iterations is unknown and depends on a condition.\n",
        "- **Complex Conditions**: Suitable for complex loop exit conditions.\n",
        "- **Event-Driven Repetition**: Preferable when waiting for an event or a particular state change.\n"
      ]
    },
    {
      "cell_type": "code",
      "execution_count": 12,
      "metadata": {},
      "outputs": [
        {
          "name": "stdout",
          "output_type": "stream",
          "text": [
            "apple\n",
            "banana\n",
            "cherry\n",
            "3\n"
          ]
        }
      ],
      "source": [
        "count = 0\n",
        "for fruit in ['apple', 'banana', 'cherry']:\n",
        "    count =+ count+1\n",
        "    print(fruit)\n",
        "print(count)\n"
      ]
    },
    {
      "cell_type": "code",
      "execution_count": 14,
      "metadata": {},
      "outputs": [],
      "source": [
        "user_input = \"\"\n",
        "while user_input.lower() != \"quit\":\n",
        "    user_input = input(\"Enter something: \")\n"
      ]
    }
  ],
  "metadata": {
    "colab": {
      "provenance": []
    },
    "kernelspec": {
      "display_name": "Python 3",
      "name": "python3"
    },
    "language_info": {
      "codemirror_mode": {
        "name": "ipython",
        "version": 3
      },
      "file_extension": ".py",
      "mimetype": "text/x-python",
      "name": "python",
      "nbconvert_exporter": "python",
      "pygments_lexer": "ipython3",
      "version": "3.9.18"
    }
  },
  "nbformat": 4,
  "nbformat_minor": 0
}
